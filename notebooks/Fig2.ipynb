{
 "cells": [
  {
   "cell_type": "markdown",
   "id": "b274f061-9a8c-4365-83bd-41b81c32263d",
   "metadata": {},
   "source": [
    "# Figure 2"
   ]
  },
  {
   "cell_type": "code",
   "execution_count": 1,
   "id": "339e7ba9-3947-4696-89b4-333c33592a11",
   "metadata": {},
   "outputs": [],
   "source": [
    "import numpy as np\n",
    "import matplotlib.pyplot as plt\n",
    "from matplotlib import rc\n",
    "from zebrafish_ms2_paper.trace_analysis import extract_traces, compute_trace_uncertainty, enforce_1spot_per_nucleus\n",
    "from zebrafish_ms2_paper.utils import pboc_rc, style_axes, colors, fontsize\n",
    "import pandas as pd\n",
    "import pickle\n",
    "from matplotlib import rcParams"
   ]
  },
  {
   "cell_type": "code",
   "execution_count": 2,
   "id": "d295d37f",
   "metadata": {},
   "outputs": [],
   "source": [
    "%matplotlib qt"
   ]
  },
  {
   "cell_type": "code",
   "execution_count": 3,
   "id": "535a5f2d-a7ee-47e4-bc16-ddceffbd7c96",
   "metadata": {},
   "outputs": [],
   "source": [
    "\"\"\"specify the path to the folder of Supplemental Data Files\"\"\"\n",
    "# REPLACE THIS WITH YOUR PATH\n",
    "datadir = r'/home/brandon/Downloads/SupplementalDataFiles'\n",
    "\n",
    "# define paths to particular files\n",
    "path_to_spots = datadir + '/Supplemental_Data_File_2-Spots_Curated.pkl'\n",
    "path_to_non_blank_timepoints = datadir + '/Supplemental_Data_File_3-Non-Blank_Time_Points.pkl'\n"
   ]
  },
  {
   "cell_type": "code",
   "execution_count": 4,
   "id": "42b73aa8-8081-4c80-b758-0043125b8fd8",
   "metadata": {},
   "outputs": [],
   "source": [
    "fontsize = 8\n",
    "linewidth = 2\n",
    "markersize = 4\n",
    "rcParams.update(pboc_rc)\n",
    "rcParams['pdf.fonttype'] = 42"
   ]
  },
  {
   "cell_type": "code",
   "execution_count": 6,
   "id": "14ba461a-fb3d-417f-8932-83804945c899",
   "metadata": {},
   "outputs": [],
   "source": [
    "\"\"\"load the DataFrame with spot info and non_blank_timepoints array, which gives the correct time stamps\"\"\"\n",
    "df = pd.read_pickle(path_to_spots)\n",
    "\n",
    "with open(path_to_non_blank_timepoints,'rb') as fp:\n",
    "    non_blank_timepoints = pickle.load(fp)"
   ]
  },
  {
   "cell_type": "markdown",
   "id": "652730b6-ed49-4b47-8a1f-755056eed1d1",
   "metadata": {
    "jp-MarkdownHeadingCollapsed": true
   },
   "source": [
    "## Figure 2E\n",
    "Plot one example trace with error bars"
   ]
  },
  {
   "cell_type": "code",
   "execution_count": 7,
   "id": "be81d042-273c-40c9-9c85-0c63a6067826",
   "metadata": {},
   "outputs": [],
   "source": [
    "\"\"\"extract just one trace\"\"\"\n",
    "good_ids = [9161]\n",
    "df = df[[nuc in good_ids for nuc in df.nucleus_id]]\n",
    "df = enforce_1spot_per_nucleus(df, method='gauss3d_dog')\n",
    "\n",
    "# extract culled traces\n",
    "traces = extract_traces(df, method='gauss3d_dog')"
   ]
  },
  {
   "cell_type": "code",
   "execution_count": 8,
   "id": "aa0dc6f2-0075-4869-a4f5-6aa18ac7e274",
   "metadata": {},
   "outputs": [],
   "source": [
    "\"\"\"plot\"\"\"\n",
    "plt.figure(figsize=(3.5, 2))\n",
    "for i, trace in enumerate(traces):\n",
    "    # unpack trace\n",
    "    t_arr, inten_arr, nucleus = trace\n",
    "\n",
    "    # assign correct time stamps\n",
    "    t_arr = non_blank_timepoints[t_arr.astype('int')]\n",
    "\n",
    "    # compute trace uncertainty\n",
    "    sub_df = df[df.nucleus_id == nucleus]\n",
    "    t_arr_bkg = sub_df.t.values\n",
    "    bkg_arr = sub_df.offset.values\n",
    "    t_arr_bkg = t_arr_bkg[~np.isnan(bkg_arr)]\n",
    "    bkg_arr = bkg_arr[~np.isnan(bkg_arr)]\n",
    "    s = compute_trace_uncertainty(t_arr_bkg, bkg_arr, inten_arr)\n",
    "    l = inten_arr - s\n",
    "    u = inten_arr + s\n",
    "\n",
    "    # normalize trace to the maximum and plot\n",
    "    max_inten = np.max(inten_arr)\n",
    "    plt.plot(t_arr, inten_arr / max_inten, '-', linewidth=linewidth, label='MS2', color=colors['green'])\n",
    "    plt.plot(t_arr, inten_arr / max_inten, 'o', label='_nolabel_', markersize=markersize, fillstyle='none', markeredgecolor='k', markeredgewidth=0.5*linewidth)\n",
    "    plt.fill_between(t_arr, l / max_inten, u / max_inten, facecolor=colors['green'], alpha=0.25)\n",
    "\n",
    "    # for clarity, only show a subset of the trace\n",
    "    plt.xlim([25, 129])\n",
    "    plt.ylim([-0.1, 1.3])\n",
    "    plt.yticks([0, 0.5, 1])\n",
    "    plt.xticks([30, 60, 90, 120])\n",
    "    plt.xlabel('time (min)', fontsize=fontsize)\n",
    "    plt.ylabel('\\n her1-MS2 fluorescence \\nintensity (a.u.)', fontsize=fontsize)\n",
    "    \n",
    "    # adjust plot line thicknesses\n",
    "    ax = style_axes(plt.gca(), fontsize=fontsize)\n",
    "\n",
    "plt.tight_layout()"
   ]
  },
  {
   "cell_type": "code",
   "execution_count": 21,
   "id": "0386ff8d",
   "metadata": {},
   "outputs": [],
   "source": [
    "plt.savefig(r'/media/brandon/Data1/Somitogenesis/Dorado/example_trace_v2.pdf')"
   ]
  },
  {
   "cell_type": "code",
   "execution_count": null,
   "id": "e4364536",
   "metadata": {},
   "outputs": [],
   "source": []
  }
 ],
 "metadata": {
  "kernelspec": {
   "display_name": "Python (zebrafish-ms2-paper)",
   "language": "python",
   "name": "zebrafish-ms2-paper"
  },
  "language_info": {
   "codemirror_mode": {
    "name": "ipython",
    "version": 3
   },
   "file_extension": ".py",
   "mimetype": "text/x-python",
   "name": "python",
   "nbconvert_exporter": "python",
   "pygments_lexer": "ipython3",
   "version": "3.12.0"
  }
 },
 "nbformat": 4,
 "nbformat_minor": 5
}
