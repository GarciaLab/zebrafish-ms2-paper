{
 "cells": [
  {
   "cell_type": "markdown",
   "id": "f90a7de5-89a4-46bf-b094-9b0107454c2f",
   "metadata": {},
   "source": [
    "# Fig6"
   ]
  },
  {
   "cell_type": "code",
   "execution_count": 1,
   "id": "fbda110e-9694-4341-b178-7e7213902ea1",
   "metadata": {},
   "outputs": [],
   "source": [
    "from zebrafish_ms2_paper.gillespie_simulations_delay import Params, simulate_multiple_copies, sim_ms2, hill_function\n",
    "from zebrafish_ms2_paper.trace_analysis import binarize_trace, get_on_and_off_times, get_burst_durations, get_burst_inactive_durations, extract_traces\n",
    "from zebrafish_ms2_paper.utils import pboc_rc, style_axes, colors, fontsize\n",
    "import matplotlib.pyplot as plt\n",
    "from matplotlib import rc, rcParams\n",
    "import numpy as np\n",
    "from multiprocessing import Pool\n",
    "import pandas as pd\n",
    "import pickle"
   ]
  },
  {
   "cell_type": "code",
   "execution_count": 2,
   "id": "64a8c9f0",
   "metadata": {},
   "outputs": [],
   "source": [
    "rcParams.update(pboc_rc)\n",
    "rcParams['pdf.fonttype'] = 42"
   ]
  },
  {
   "cell_type": "code",
   "execution_count": 3,
   "id": "5a7b7a2b",
   "metadata": {},
   "outputs": [
    {
     "data": {
      "text/plain": [
       "{'green': '#7AA974',\n",
       " 'light_green': '#BFD598',\n",
       " 'pale_green': '#DCECCB',\n",
       " 'yellow': '#EAC264',\n",
       " 'light_yellow': '#F3DAA9',\n",
       " 'pale_yellow': '#FFEDCE',\n",
       " 'blue': '#738FC1',\n",
       " 'light_blue': '#A9BFE3',\n",
       " 'pale_blue': '#C9D7EE',\n",
       " 'red': '#D56C55',\n",
       " 'light_red': '#E8B19D',\n",
       " 'pale_red': '#F1D4C9',\n",
       " 'purple': '#AB85AC',\n",
       " 'light_purple': '#D4C2D9',\n",
       " 'dark_green': '#7E9D90',\n",
       " 'dark_brown': '#905426'}"
      ]
     },
     "execution_count": 3,
     "metadata": {},
     "output_type": "execute_result"
    }
   ],
   "source": [
    "colors"
   ]
  },
  {
   "cell_type": "code",
   "execution_count": 4,
   "id": "cd32e1f9",
   "metadata": {},
   "outputs": [],
   "source": [
    "fontsize = 9\n",
    "linewidth = 2\n",
    "run_sim = True\n",
    "n_replicates = 15\n",
    "markersize = 8\n",
    "#bins = np.arange(3, 55)\n",
    "bins = np.linspace(3, 55, 12)\n",
    "#bins = np.linspace(3, 40, 15)\n"
   ]
  },
  {
   "cell_type": "code",
   "execution_count": 5,
   "id": "dca6be9a",
   "metadata": {},
   "outputs": [],
   "source": [
    "%matplotlib qt"
   ]
  },
  {
   "cell_type": "code",
   "execution_count": 6,
   "id": "e403c28a-b450-4192-9679-51146867d9ca",
   "metadata": {},
   "outputs": [],
   "source": [
    "\"\"\"specify the path to the folder of Supplemental Data Files\"\"\"\n",
    "# REPLACE THIS WITH YOUR PATH\n",
    "datadir = r'/home/brandon/Downloads/SupplementalDataFiles'\n",
    "\n",
    "# define paths to particular files\n",
    "path_to_spots = datadir + '/Supplemental_Data_File_2-Spots_Curated.pkl'\n",
    "path_to_non_blank_timepoints = datadir + '/Supplemental_Data_File_3-Non-Blank_Time_Points.pkl'\n"
   ]
  },
  {
   "cell_type": "code",
   "execution_count": 7,
   "id": "5fc647f2",
   "metadata": {},
   "outputs": [],
   "source": [
    "df = pd.read_pickle(path_to_spots)"
   ]
  },
  {
   "cell_type": "code",
   "execution_count": 8,
   "id": "a4f14781",
   "metadata": {},
   "outputs": [
    {
     "data": {
      "text/plain": [
       "array([4575.5862069])"
      ]
     },
     "execution_count": 8,
     "metadata": {},
     "output_type": "execute_result"
    }
   ],
   "source": [
    "intens = df.gauss3d_dog.values\n",
    "brightest_spot_intensity = np.quantile(intens[intens > 0], q=(0.95,))\n",
    "brightest_spot_intensity / 10 / 0.29 / 4"
   ]
  },
  {
   "cell_type": "markdown",
   "id": "aa6cb1f4-0f2d-40d1-bb86-878577d64bd5",
   "metadata": {
    "jp-MarkdownHeadingCollapsed": true
   },
   "source": [
    "## Fig6B,C,D\n",
    "Plot example traces for the three burst regulation models. Here we also plot the predicted protein traces, though we removed these from the final figure for simplicity. This code generates new stochastic simulations, so the traces won't be exactly the same was what is plotted in the figure."
   ]
  },
  {
   "cell_type": "code",
   "execution_count": 9,
   "id": "180425c9",
   "metadata": {},
   "outputs": [],
   "source": [
    "plt.close('all')"
   ]
  },
  {
   "cell_type": "code",
   "execution_count": 10,
   "id": "e90e182c",
   "metadata": {},
   "outputs": [],
   "source": [
    "f, axs = plt.subplots(2,4)"
   ]
  },
  {
   "cell_type": "code",
   "execution_count": 11,
   "id": "b2a64772",
   "metadata": {},
   "outputs": [],
   "source": [
    "def plot_example_trace(p, f=None, axs=None, burn_in_time=45):\n",
    "    if f is None:\n",
    "        f, axs = plt.subplots(2, 1, figsize=(4,3))\n",
    "\n",
    "    X, tvec, p = simulate_multiple_copies(p)\n",
    "    state = X[:, 0]\n",
    "    mrna = X[:, -2]\n",
    "    protein = X[:, -1]\n",
    "    \n",
    "    start_id = np.where(tvec > burn_in_time)[0][0]\n",
    "    state = state[start_id:]\n",
    "    mrna = mrna[start_id:]\n",
    "    protein = protein[start_id:]\n",
    "    tvec = tvec[start_id:] - burn_in_time\n",
    "    X = X[start_id:]\n",
    "\n",
    "    production_rate = p.transcription_rate_0 + p.transcription_rate_1 * hill_function(protein, p.KD_transcription_rate, p.n)\n",
    "    #detection_threshold = 0.0\n",
    "    relevant_production_rate = production_rate[np.where(tvec > burn_in_time)[0]]\n",
    "    m = np.mean(np.log10(relevant_production_rate[relevant_production_rate > 0]))\n",
    "    s = np.std(np.log10(relevant_production_rate[relevant_production_rate > 0]))\n",
    "    detection_threshold = 0.22 * 10 ** (m + s) * w\n",
    "    #detection_threshold = 0.2 * np.max(production_rate[np.where(tvec > burn_in_time)[0][0]]) * w\n",
    "\n",
    "    ms2, t_obs = sim_ms2(state, tvec, production_rate, w, delta_t, sigma, detection_threshold)\n",
    "\n",
    "    inferred_state = binarize_trace(ms2, t_obs, thresh=1e-1, window_size=3)\n",
    "\n",
    "    # plot\n",
    "    # state\n",
    "    ax = axs[0]\n",
    "    ax.plot(tvec, state, 'k-', linewidth=linewidth)\n",
    "\n",
    "    #plt.title('amplitude regulation', fontsize=fontsize)\n",
    "    #ax.set_ylabel('promoter \\nstate \\n(0, 1)', fontsize=fontsize)\n",
    "    ax.set_ylim([0,1.2])\n",
    "    ax.set_xticks([0, 60, 120, 180], labels=[])\n",
    "    ax.set_yticks([0, 1], labels=[])\n",
    "    ax = style_axes(ax, fontsize=fontsize)\n",
    "\n",
    "    # MS2\n",
    "    ax = axs[1]\n",
    "    ax.plot(tvec, protein / np.max(protein), '-', linewidth=linewidth, color=colors['purple'], label='protein')\n",
    "    ax.plot(t_obs, ms2 / np.max(ms2), '-', linewidth=linewidth, color=colors['green'], label='MS2')\n",
    "    #ax.plot(t_obs, inferred_state, '-', linewidth=linewidth, color='k', label='inferred state')\n",
    "    #ax.plot(tvec, production_rate / np.max(production_rate), '-', linewidth=linewidth, color=colors['blue'], label='transcription rate')\n",
    "    \n",
    "    #plt.title('amplitude regulation', fontsize=fontsize)\n",
    "    #ax.set_ylabel('simulated \\nher1 activity \\n(fraction of max)', fontsize=fontsize)\n",
    "    ax.set_xlabel('time (min)', fontsize=fontsize)\n",
    "    ax.set_ylim([0,1.5])\n",
    "    ax.set_xticks([0, 60, 120, 180])\n",
    "    ax.set_yticks([0, 1], labels=[])\n",
    "    #ax.legend(fontsize=fontsize, facecolor='none', loc=1, ncol=2)\n",
    "    ax = style_axes(ax, fontsize=fontsize)\n",
    "\n",
    "    #f.tight_layout()\n",
    "    \n",
    "    return f, axs, X, tvec"
   ]
  },
  {
   "cell_type": "code",
   "execution_count": 12,
   "id": "fd8fd755-eb6e-4ef4-913a-6a05e8b3a894",
   "metadata": {},
   "outputs": [],
   "source": [
    "\"\"\"fixed model params\"\"\"\n",
    "elongation_time = 0.29\n",
    "delta_t = 1.0\n",
    "w = elongation_time / delta_t\n",
    "sigma = 0.2"
   ]
  },
  {
   "cell_type": "code",
   "execution_count": 13,
   "id": "f93f1299",
   "metadata": {},
   "outputs": [],
   "source": [
    "\"\"\"amplitude regulation, no bursts\"\"\"\n",
    "p = Params()\n",
    "p.initial_state = np.array([1])\n",
    "p.Tmax = 240\n",
    "p.k_off0 = 0#0.3#0.025\n",
    "p.k_off1 = 0.0#0.0\n",
    "p.k_on0 = 1000#0.1#.0\n",
    "p.k_on1 = 0#2.5\n",
    "p.transcription_rate_0 = 0\n",
    "\n",
    "p.translation_rate = 4.5\n",
    "p.transcription_rate_1 = 10.0 / len(p.initial_state)\n",
    "\n",
    "p.mrna_decay_rate = 0.23\n",
    "p.protein_decay_rate = 0.23\n",
    "\n",
    "p.delay = 7.5\n",
    "\n",
    "p.KD_transcription_rate = 100\n",
    "p.n = 3\n",
    "\n",
    "_, _, X, tvec = plot_example_trace(p, f=f, axs=axs[:,0])"
   ]
  },
  {
   "cell_type": "code",
   "execution_count": 14,
   "id": "a4c6a1fa-2f31-40ec-8f4b-77de9ee557dc",
   "metadata": {},
   "outputs": [],
   "source": [
    "\"\"\"k_on regulation\"\"\"\n",
    "p = Params()\n",
    "p.initial_state = np.array([1])#, 1, 1, 1])\n",
    "p.Tmax = 240#1000\n",
    "p.k_off0 = 0.2#0.2#2.2#0.025\n",
    "p.k_off1 = 0.0#0.0\n",
    "p.k_on0 = 0.0#0.1#2.2\n",
    "p.k_on1 = 3#2.5\n",
    "p.transcription_rate_0 = 10#10.0 / len(p.initial_state)\n",
    "\n",
    "p.translation_rate = 4.5#4.5# max possible 16\n",
    "p.transcription_rate_1 = 0 #10.0 / len(p.initial_state) max possible 50\n",
    "\n",
    "p.mrna_decay_rate = 0.23\n",
    "p.protein_decay_rate = 0.23\n",
    "\n",
    "p.delay = 0.0\n",
    "\n",
    "p.KD_k_on = 10\n",
    "p.n = 10\n",
    "\n",
    "_, _, X, tvec = plot_example_trace(p, f=f, axs=axs[:,1])"
   ]
  },
  {
   "cell_type": "code",
   "execution_count": 15,
   "id": "e6b6ad8a-45dc-44b5-a350-fad5040f7fd9",
   "metadata": {},
   "outputs": [],
   "source": [
    "\"\"\"k_off regulation\"\"\"\n",
    "p = Params()\n",
    "p.initial_state = np.array([1])#, 1, 1, 1])\n",
    "p.Tmax = 240#1000\n",
    "p.k_off0 = 0.0#0.2#2.2#0.025\n",
    "p.k_off1 = 1000*0.08#0.0\n",
    "p.k_on0 = 0.05#0.1#2.2\n",
    "p.k_on1 = 0.0#2.5\n",
    "p.transcription_rate_0 = 10#10.0 / len(p.initial_state)\n",
    "\n",
    "p.translation_rate = 4.5#4.5# max possible 16\n",
    "p.transcription_rate_1 = 0 #10.0 / len(p.initial_state) max possible 50\n",
    "\n",
    "p.mrna_decay_rate = 0.23\n",
    "p.protein_decay_rate = 0.23\n",
    "p.delay = 0\n",
    "\n",
    "p.KD_k_on = 10\n",
    "p.KD_k_off = 800\n",
    "p.n = 20\n",
    "_, _, X, tvec = plot_example_trace(p, f=f, axs=axs[:,2])"
   ]
  },
  {
   "cell_type": "code",
   "execution_count": 16,
   "id": "7dcab5e0",
   "metadata": {},
   "outputs": [],
   "source": [
    "\"\"\"k_on and k_off regulation, complete regulation\"\"\"\n",
    "p = Params()\n",
    "p.number_of_random_numbers_to_pregenerate = 1e6\n",
    "p.initial_state = np.array([1])#, 1, 1, 1])\n",
    "p.Tmax = 240#1000\n",
    "p.k_off0 = 0.0#0.2#0.2#2.2#0.025\n",
    "p.k_off1 = 0.2#0.2#0.0\n",
    "p.k_on0 = 0.0#0.1#0.1#2.2\n",
    "p.k_on1 = 0.2#0.1#2.5\n",
    "p.transcription_rate_0 = 10#10.0 / len(p.initial_state)\n",
    "\n",
    "p.translation_rate = 4.5#4.5# max possible 16\n",
    "p.transcription_rate_1 = 0 #10.0 / len(p.initial_state) max possible 50\n",
    "\n",
    "p.mrna_decay_rate = 0.23\n",
    "p.protein_decay_rate = 0.23\n",
    "p.delay = 0\n",
    "\n",
    "p.KD_k_on = 10\n",
    "p.KD_k_off = 100\n",
    "p.n = 10\n",
    "\n",
    "_, _, X, tvec = plot_example_trace(p, f=f, axs=axs[:,3])"
   ]
  },
  {
   "cell_type": "code",
   "execution_count": 17,
   "id": "4a9cfa42",
   "metadata": {},
   "outputs": [
    {
     "data": {
      "text/plain": [
       "<matplotlib.legend.Legend at 0x7f7dff255f40>"
      ]
     },
     "execution_count": 17,
     "metadata": {},
     "output_type": "execute_result"
    }
   ],
   "source": [
    "axs[0, 0].set_yticks([0, 1], labels=[0, 1])\n",
    "axs[0, 0].set_ylabel('promoter \\nstate \\n(0, 1)', fontsize=fontsize)\n",
    "\n",
    "axs[1, 0].set_yticks([0, 1], labels=[0, 1])\n",
    "axs[1, 0].set_ylabel('simulated \\nher1 activity \\n(fraction of max)', fontsize=fontsize)\n",
    "axs[1, 0].legend(fontsize=fontsize, facecolor='none', loc=1, ncol=2)"
   ]
  },
  {
   "cell_type": "code",
   "execution_count": 47,
   "id": "2d5ca429",
   "metadata": {},
   "outputs": [],
   "source": [
    "plt.savefig(r'/home/brandon/Documents/Code/zebrafish-ms2-paper/figures/example_simluated_traces.pdf')"
   ]
  },
  {
   "cell_type": "code",
   "execution_count": null,
   "id": "05389611",
   "metadata": {},
   "outputs": [],
   "source": []
  }
 ],
 "metadata": {
  "kernelspec": {
   "display_name": "Python (zebrafish-ms2-paper)",
   "language": "python",
   "name": "zebrafish-ms2-paper"
  },
  "language_info": {
   "codemirror_mode": {
    "name": "ipython",
    "version": 3
   },
   "file_extension": ".py",
   "mimetype": "text/x-python",
   "name": "python",
   "nbconvert_exporter": "python",
   "pygments_lexer": "ipython3",
   "version": "3.12.0"
  }
 },
 "nbformat": 4,
 "nbformat_minor": 5
}
