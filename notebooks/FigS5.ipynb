{
 "cells": [
  {
   "cell_type": "markdown",
   "id": "19640789",
   "metadata": {},
   "source": [
    "# FigS5\n",
    "Plot 48 traces from the manually curated dataset"
   ]
  },
  {
   "cell_type": "code",
   "execution_count": 7,
   "id": "25e2f468",
   "metadata": {},
   "outputs": [],
   "source": [
    "import numpy as np\n",
    "import matplotlib.pyplot as plt\n",
    "from matplotlib import rc\n",
    "from zebrafish_ms2_paper.trace_analysis import extract_traces, remove_blips, predict_protein, predict_protein_v2, compute_trace_uncertainty, enforce_1spot_per_nucleus\n",
    "from zebrafish_ms2_paper.utils import pboc_rc, style_axes, colors, fontsize\n",
    "from matplotlib import rcParams\n",
    "import pandas as pd\n",
    "import pickle\n",
    "            "
   ]
  },
  {
   "cell_type": "code",
   "execution_count": 8,
   "id": "9250a9fc",
   "metadata": {},
   "outputs": [],
   "source": [
    "%matplotlib qt"
   ]
  },
  {
   "cell_type": "code",
   "execution_count": 12,
   "id": "6deaf037",
   "metadata": {},
   "outputs": [],
   "source": [
    "\"\"\"specify the path to the folder of Supplemental Data Files\"\"\"\n",
    "# REPLACE THIS WITH YOUR PATH\n",
    "datadir = r'/home/brandon/Downloads/SupplementalDataFiles'\n",
    "\n",
    "# define paths to particular files\n",
    "path_to_spots = datadir + '/Supplemental_Data_File_2-Spots_Curated.pkl'\n",
    "path_to_non_blank_timepoints = datadir + '/Supplemental_Data_File_3-Non-Blank_Time_Points.pkl'\n"
   ]
  },
  {
   "cell_type": "code",
   "execution_count": 10,
   "id": "74628a29",
   "metadata": {},
   "outputs": [],
   "source": [
    "\"\"\"plot params\"\"\"\n",
    "rcParams.update(pboc_rc)\n",
    "rcParams['pdf.fonttype'] = 42"
   ]
  },
  {
   "cell_type": "code",
   "execution_count": 13,
   "id": "a2751731",
   "metadata": {},
   "outputs": [],
   "source": [
    "df = pd.read_pickle(path_to_spots)\n",
    "with open(path_to_non_blank_timepoints,'rb') as fp:\n",
    "    non_blank_timepoints = pickle.load(fp)\n",
    "    \n",
    "minimum_number_of_spots = 20\n",
    "\n",
    "df = enforce_1spot_per_nucleus(df, method='gauss3d_dog')\n",
    "\n",
    "# extract culled traces\n",
    "traces = extract_traces(df, method='gauss3d_dog')\n",
    "\n",
    "# filter traces by length\n",
    "trace_len = [np.sum(trace[1] > 0) for trace in traces]\n",
    "traces = [zipped[0] for zipped in zip(traces, trace_len) if zipped[1] > minimum_number_of_spots ]\n",
    "good_ids = [trace[2] for trace in traces]\n",
    "df = df[[nid in good_ids for nid in df.nucleus_id.tolist()]]\n",
    "\n",
    "plt.figure(figsize=(3.13 * 8.5, 3.13 * 11), dpi=30)\n",
    "fontweight = 'bold'\n",
    "fontsize = 24\n",
    "fontproperties = {'family':'sans-serif','sans-serif':['Helvetica'],'weight' : fontweight, 'size' : fontsize}\n",
    "counter = 0\n",
    "max_inten = df.gauss3d_dog.max()\n",
    "\n",
    "traces_to_plot = 48\n",
    "for i, trace in enumerate(traces):\n",
    "    if counter > traces_to_plot - 1:\n",
    "         continue\n",
    "    t_arr, inten_arr, nucleus = trace\n",
    "    t_arr = non_blank_timepoints[t_arr.astype('int')]\n",
    "\n",
    "    # for trace uncertainty\n",
    "    sub_df = df[df.nucleus_id == nucleus]\n",
    "    t_arr_bkg = sub_df.t.values\n",
    "    bkg_arr = sub_df.offset.values\n",
    "    t_arr_bkg = t_arr_bkg[~np.isnan(bkg_arr)]\n",
    "    bkg_arr = bkg_arr[~np.isnan(bkg_arr)]\n",
    "    s = compute_trace_uncertainty(t_arr_bkg, bkg_arr, inten_arr)\n",
    "    l = inten_arr - s\n",
    "    u = inten_arr + s\n",
    "    \n",
    "    counter += 1\n",
    "    plt.subplot(int(traces_to_plot / 3), 3, counter)\n",
    "    plt.plot(t_arr, inten_arr / max_inten, 'g-', linewidth=3, label='MS2')\n",
    "    plt.fill_between(t_arr, l / max_inten, u / max_inten, facecolor='g', alpha=0.25)\n",
    "    \n",
    "    plt.xlim([0, 145])\n",
    "\n",
    "    if counter == traces_to_plot - 1:\n",
    "        plt.xticks([0, 30, 60, 90, 120])\n",
    "        plt.xlabel('time (min)', fontsize=fontsize)\n",
    "    elif counter == traces_to_plot:\n",
    "        plt.xticks([0, 30, 60, 90, 120])\n",
    "        plt.xlabel('time (min)', fontsize=fontsize)\n",
    "    elif counter == traces_to_plot - 2:\n",
    "        plt.xticks([0, 30, 60, 90, 120])\n",
    "        plt.xlabel('time (min)', fontsize=fontsize)\n",
    "    else:\n",
    "        plt.xticks([0, 30, 60, 90, 120], labels=[])\n",
    "    \n",
    "\n",
    "    if counter == 25:\n",
    "        plt.ylabel('her1-MS2 fluorescence intensity (a.u.) \\n', fontsize=fontsize)\n",
    "\n",
    "\n",
    "    ax = style_axes(plt.gca(), fontsize=fontsize)"
   ]
  },
  {
   "cell_type": "code",
   "execution_count": 10,
   "id": "36cf1b05",
   "metadata": {},
   "outputs": [],
   "source": [
    "plt.savefig(r'/media/brandon/Data1/Somitogenesis/Dorado/48_manual_traces.pdf')"
   ]
  },
  {
   "cell_type": "code",
   "execution_count": 11,
   "id": "2196fdcf",
   "metadata": {},
   "outputs": [],
   "source": [
    "plt.savefig(r'/media/brandon/Data1/Somitogenesis/Dorado/48_manual_traces.png')"
   ]
  },
  {
   "cell_type": "code",
   "execution_count": null,
   "id": "d67827da",
   "metadata": {},
   "outputs": [],
   "source": []
  }
 ],
 "metadata": {
  "kernelspec": {
   "display_name": "Python (zebrafish-ms2-paper)",
   "language": "python",
   "name": "zebrafish-ms2-paper"
  },
  "language_info": {
   "codemirror_mode": {
    "name": "ipython",
    "version": 3
   },
   "file_extension": ".py",
   "mimetype": "text/x-python",
   "name": "python",
   "nbconvert_exporter": "python",
   "pygments_lexer": "ipython3",
   "version": "3.12.0"
  }
 },
 "nbformat": 4,
 "nbformat_minor": 5
}
