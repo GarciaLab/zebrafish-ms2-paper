{
 "cells": [
  {
   "cell_type": "markdown",
   "id": "b54c8267-844e-4a34-9799-f4d3ebddea4d",
   "metadata": {},
   "source": [
    "# protein prediction appendix fig"
   ]
  },
  {
   "cell_type": "code",
   "execution_count": 1,
   "id": "edf46563-a5ce-4ec4-a574-f84e1a1b4e21",
   "metadata": {},
   "outputs": [],
   "source": [
    "import numpy as np\n",
    "import matplotlib.pyplot as plt\n",
    "from matplotlib import rc\n",
    "from zebrafish_ms2_paper.trace_analysis import extract_traces,predict_protein, predict_protein_v3\n",
    "from zebrafish_ms2_paper.utils import pboc_rc, style_axes, colors, fontsize\n",
    "from matplotlib import rc, rcParams\n",
    "import pandas as pd\n",
    "import pickle\n",
    "import matplotlib as mpl\n"
   ]
  },
  {
   "cell_type": "code",
   "execution_count": 2,
   "id": "74dc1212",
   "metadata": {},
   "outputs": [],
   "source": [
    "%matplotlib qt"
   ]
  },
  {
   "cell_type": "code",
   "execution_count": 10,
   "id": "fd861d17",
   "metadata": {},
   "outputs": [
    {
     "data": {
      "text/plain": [
       "{'green': '#7AA974',\n",
       " 'light_green': '#BFD598',\n",
       " 'pale_green': '#DCECCB',\n",
       " 'yellow': '#EAC264',\n",
       " 'light_yellow': '#F3DAA9',\n",
       " 'pale_yellow': '#FFEDCE',\n",
       " 'blue': '#738FC1',\n",
       " 'light_blue': '#A9BFE3',\n",
       " 'pale_blue': '#C9D7EE',\n",
       " 'red': '#D56C55',\n",
       " 'light_red': '#E8B19D',\n",
       " 'pale_red': '#F1D4C9',\n",
       " 'purple': '#AB85AC',\n",
       " 'light_purple': '#D4C2D9',\n",
       " 'dark_green': '#7E9D90',\n",
       " 'dark_brown': '#905426'}"
      ]
     },
     "execution_count": 10,
     "metadata": {},
     "output_type": "execute_result"
    }
   ],
   "source": [
    "colors"
   ]
  },
  {
   "cell_type": "code",
   "execution_count": 3,
   "id": "95a422ee",
   "metadata": {},
   "outputs": [],
   "source": [
    "fontsize = 8\n",
    "linewidth = 2\n",
    "markersize = 8"
   ]
  },
  {
   "cell_type": "code",
   "execution_count": 4,
   "id": "d1bb61e0-81b8-4e81-9cd7-9c36b4e2fddc",
   "metadata": {},
   "outputs": [],
   "source": [
    "\"\"\"specify the path to the folder of Supplemental Data Files\"\"\"\n",
    "# REPLACE THIS WITH YOUR PATH\n",
    "datadir = r'/home/brandon/Downloads/SupplementalDataFiles'\n",
    "\n",
    "# define paths to particular files\n",
    "path_to_spots = datadir + '/Supplemental_Data_File_1-Spots.pkl'\n",
    "path_to_non_blank_timepoints = datadir + '/Supplemental_Data_File_3-Non-Blank_Time_Points.pkl'\n"
   ]
  },
  {
   "cell_type": "code",
   "execution_count": 5,
   "id": "7f248ae0-c112-4758-906e-45e074e17a1f",
   "metadata": {},
   "outputs": [],
   "source": [
    "rcParams.update(pboc_rc)\n",
    "rcParams['pdf.fonttype'] = 42"
   ]
  },
  {
   "cell_type": "code",
   "execution_count": 6,
   "id": "74cdd0a1-381a-4b3b-b1d6-b9d0350290b6",
   "metadata": {},
   "outputs": [],
   "source": [
    "# correct time stamps\n",
    "with open(path_to_non_blank_timepoints,'rb') as fp:\n",
    "    non_blank_timepoints = pickle.load(fp)"
   ]
  },
  {
   "cell_type": "code",
   "execution_count": 7,
   "id": "1e24f1bc",
   "metadata": {},
   "outputs": [],
   "source": [
    "plt.close('all')"
   ]
  },
  {
   "cell_type": "markdown",
   "id": "80655e96-1199-43f6-8507-76ee60cf8d4e",
   "metadata": {
    "jp-MarkdownHeadingCollapsed": true
   },
   "source": [
    "## Fig5D\n",
    "Plot an example of a binarized trace"
   ]
  },
  {
   "cell_type": "code",
   "execution_count": 9,
   "id": "c78ebf89-3c31-4f80-85de-84604c27b6db",
   "metadata": {},
   "outputs": [
    {
     "name": "stderr",
     "output_type": "stream",
     "text": [
      "/home/brandon/Documents/Code/zebrafish-ms2-paper/zebrafish_ms2_paper/trace_analysis.py:42: FutureWarning: Calling int on a single element Series is deprecated and will raise a TypeError in the future. Use int(ser.iloc[0]) instead\n",
      "  inten_arr[i] = sub_sub_df.get(method)\n"
     ]
    }
   ],
   "source": [
    "# load the manual dorado dataset\n",
    "df = pd.read_pickle(path_to_spots)\n",
    "\n",
    "good_ids = [2715]\n",
    "\n",
    "df = df[[nuc in good_ids for nuc in df.nucleus_id]]\n",
    "\n",
    "# extract culled traces\n",
    "traces = extract_traces(df, method='gauss3d_dog')\n",
    "\n",
    "            "
   ]
  },
  {
   "cell_type": "code",
   "execution_count": 32,
   "id": "502dfc28-561d-4f96-9527-45f8ede7b899",
   "metadata": {},
   "outputs": [
    {
     "name": "stderr",
     "output_type": "stream",
     "text": [
      "/tmp/ipykernel_4102595/628345005.py:4: RuntimeWarning: More than 20 figures have been opened. Figures created through the pyplot interface (`matplotlib.pyplot.figure`) are retained until explicitly closed and may consume too much memory. (To control this warning, see the rcParam `figure.max_open_warning`). Consider using `matplotlib.pyplot.close()`.\n",
      "  plt.figure(figsize=(6, 2.5))\n"
     ]
    }
   ],
   "source": [
    "t_arr, inten_arr, nucleus = traces[0]\n",
    "t_arr = non_blank_timepoints[t_arr.astype('int')]\n",
    "\n",
    "plt.figure(figsize=(6, 2.5))\n",
    "plt.plot(t_arr, inten_arr / np.max(inten_arr), linewidth=linewidth, label='$her1$-MS2 (experimental data)', color=colors['green'])\n",
    "\n",
    "# start from protein = 0:\n",
    "Tmax = np.max(t_arr)\n",
    "t_eval = np.arange(np.min(t_arr), np.max(t_arr))\n",
    "initial_condition = (0.0, 0.0, 0.0)\n",
    "mrna, protein, fp = predict_protein_v3(inten_arr, t_arr, Tmax=Tmax, t_eval=t_eval, initial_conditions=initial_condition)\n",
    "\n",
    "plt.plot(t_eval, protein / np.max(protein), linewidth=linewidth, color=colors['purple'], label='predicted Her1 protein, low initial protein')\n",
    "\n",
    "# start from protein = 1:\n",
    "Tmax = np.max(t_arr)\n",
    "t_eval = np.arange(np.min(t_arr), np.max(t_arr))\n",
    "initial_condition = (0.0, 1e8, 0.0)\n",
    "mrna, protein, fp = predict_protein_v3(inten_arr, t_arr, Tmax=Tmax, t_eval=t_eval, initial_conditions=initial_condition)\n",
    "\n",
    "plt.plot(t_eval, protein / np.max(protein), '--', linewidth=linewidth, color=colors['red'], label='predicted Her1 protein, high initial protein')\n",
    "\n",
    "plt.xlabel('time (min)', fontsize=fontsize)\n",
    "plt.ylabel('$her1$-MS2 fluorescence intensity, \\npredicted Her1 protein \\n(fraction of max)', fontsize=fontsize)\n",
    "plt.xlim([0, 75])\n",
    "plt.ylim([0, 1.6])\n",
    "ax = style_axes(plt.gca(), fontsize=fontsize)\n",
    "plt.legend(fontsize=fontsize, facecolor='w')\n",
    "plt.tight_layout()"
   ]
  },
  {
   "cell_type": "code",
   "execution_count": 33,
   "id": "ce44f4e6",
   "metadata": {},
   "outputs": [],
   "source": [
    "plt.savefig(r'/home/brandon/Documents/Code/zebrafish-ms2-paper/figures/appendix_protein_prediction_fig.pdf')"
   ]
  },
  {
   "cell_type": "code",
   "execution_count": null,
   "id": "ba84ad19",
   "metadata": {},
   "outputs": [],
   "source": []
  }
 ],
 "metadata": {
  "kernelspec": {
   "display_name": "Python (zebrafish-ms2-paper)",
   "language": "python",
   "name": "zebrafish-ms2-paper"
  },
  "language_info": {
   "codemirror_mode": {
    "name": "ipython",
    "version": 3
   },
   "file_extension": ".py",
   "mimetype": "text/x-python",
   "name": "python",
   "nbconvert_exporter": "python",
   "pygments_lexer": "ipython3",
   "version": "3.12.0"
  }
 },
 "nbformat": 4,
 "nbformat_minor": 5
}
