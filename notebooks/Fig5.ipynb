{
 "cells": [
  {
   "cell_type": "markdown",
   "id": "b54c8267-844e-4a34-9799-f4d3ebddea4d",
   "metadata": {},
   "source": [
    "# Fig5"
   ]
  },
  {
   "cell_type": "code",
   "execution_count": 1,
   "id": "edf46563-a5ce-4ec4-a574-f84e1a1b4e21",
   "metadata": {},
   "outputs": [],
   "source": [
    "import numpy as np\n",
    "import matplotlib.pyplot as plt\n",
    "from matplotlib import rc\n",
    "from zebrafish_ms2_paper.trace_analysis import extract_traces, remove_blips, predict_protein, predict_protein_v2, compute_trace_uncertainty, enforce_1spot_per_nucleus, binarize_trace\n",
    "from zebrafish_ms2_paper.ap_analysis import get_ap_for_somites, get_ap_for_spots, filter_spots_by_distance_from_somite, filter_spots_by_perp_distance_from_ap_axis\n",
    "import pandas as pd\n",
    "import pickle\n"
   ]
  },
  {
   "cell_type": "code",
   "execution_count": null,
   "id": "d1bb61e0-81b8-4e81-9cd7-9c36b4e2fddc",
   "metadata": {},
   "outputs": [],
   "source": [
    "\"\"\"specify the paths to the required datasets\"\"\"\n",
    "path_to_manual_dataset1 = \"ADD_PATH_TO_MANUAL_DATASET1_HERE\"\n",
    "path_to_non_blank_timepoints = \"ADD_PATH_TO_NON_BLANK_TIMEPOINTS_HERE\""
   ]
  },
  {
   "cell_type": "code",
   "execution_count": 2,
   "id": "7f248ae0-c112-4758-906e-45e074e17a1f",
   "metadata": {},
   "outputs": [],
   "source": [
    "# plot params\n",
    "fontweight = 'bold'\n",
    "fontsize = 24\n",
    "fontproperties = {'family':'sans-serif','sans-serif':['Arial'],'weight' : fontweight, 'size' : fontsize}\n",
    "rc('axes', linewidth=4)"
   ]
  },
  {
   "cell_type": "code",
   "execution_count": 3,
   "id": "74cdd0a1-381a-4b3b-b1d6-b9d0350290b6",
   "metadata": {},
   "outputs": [],
   "source": [
    "# correct time stamps\n",
    "with open(path_to_non_blank_timepoints,'rb') as fp:\n",
    "    non_blank_timepoints = pickle.load(fp)"
   ]
  },
  {
   "cell_type": "markdown",
   "id": "8ad8f6d4-c58b-4993-8b28-726f85447f17",
   "metadata": {
    "jp-MarkdownHeadingCollapsed": true
   },
   "source": [
    "## Fig 5A\n",
    "Plot example traces. Here we plot 5 traces. We ended up only showing 4 and changing the order to make the figure smaller."
   ]
  },
  {
   "cell_type": "code",
   "execution_count": 4,
   "id": "3aa10a34-418d-4e63-abf0-c4a129f72ccd",
   "metadata": {},
   "outputs": [],
   "source": [
    "# load the manual dorado dataset\n",
    "df = pd.read_pickle(path_to_manual_dataset1)\n",
    "\n",
    "minimum_number_of_spots = 20\n",
    "good_ids = [2715, 5070, 2831, 7814, 8258]\n",
    "\n",
    "df = df[[nuc in good_ids for nuc in df.nucleus_id]]\n",
    "df = enforce_1spot_per_nucleus(df, method='gauss3d_dog')\n",
    "\n",
    "# extract culled traces\n",
    "traces = extract_traces(df, method='gauss3d_dog')\n",
    "\n",
    "    "
   ]
  },
  {
   "cell_type": "code",
   "execution_count": 8,
   "id": "60c7b913-a079-4572-bc35-94b8533e6884",
   "metadata": {},
   "outputs": [],
   "source": [
    "plt.figure()\n",
    "counter = 0\n",
    "max_inten = df.gauss3d_dog.max()\n",
    "for i, trace in enumerate(traces):\n",
    "    t_arr, inten_arr, nucleus = trace\n",
    "    t_arr = non_blank_timepoints[t_arr.astype('int')]\n",
    "    \n",
    "    mrna, protein, fp = predict_protein_v2(inten_arr, t_arr, Tmax=180, t_eval=np.arange(0, 180))\n",
    "\n",
    "    # for trace uncertainty\n",
    "    sub_df = df[df.nucleus_id == nucleus]\n",
    "    t_arr_bkg = sub_df.t.values\n",
    "    bkg_arr = sub_df.offset.values\n",
    "    t_arr_bkg = t_arr_bkg[~np.isnan(bkg_arr)]\n",
    "    bkg_arr = bkg_arr[~np.isnan(bkg_arr)]\n",
    "    s = compute_trace_uncertainty(t_arr_bkg, bkg_arr, inten_arr)\n",
    "    l = inten_arr - s\n",
    "    u = inten_arr + s\n",
    "    \n",
    "    counter += 1\n",
    "    plt.subplot(5, 1, counter)\n",
    "    # plot protein\n",
    "    t_eval = np.arange(0, len(protein))\n",
    "    protein_ids = np.array([t in t_arr for t in t_eval])\n",
    "    plt.plot(t_arr, protein[protein_ids] / np.max(protein[protein_ids]) * np.max(inten_arr) / max_inten, '-', linewidth=6, alpha=0.5, label='predicted protein', color='c')\n",
    "\n",
    "    plt.plot(t_arr, inten_arr / max_inten, 'g-', linewidth=6, label='MS2')\n",
    "    plt.plot(t_arr, inten_arr / max_inten, 'o', label='_nolabel_', markersize=12, fillstyle='none', markeredgecolor='k', markeredgewidth=2)\n",
    "    plt.fill_between(t_arr, l / max_inten, u / max_inten, facecolor='g', alpha=0.25)\n",
    "    \n",
    "    plt.xlim([0, 145])\n",
    "\n",
    "    if counter == 1:\n",
    "        plt.legend(loc=2, fontsize=16)\n",
    "\n",
    "    if counter == 5:\n",
    "        plt.xticks([0, 30, 60, 90, 120])\n",
    "        plt.xlabel('time (min)', fontsize=fontsize)\n",
    "    else:\n",
    "        plt.xticks([0, 30, 60, 90, 120], labels=[])\n",
    "    \n",
    "    if counter == 3:\n",
    "        plt.ylabel('fluorescence intensity (a.u.) \\n', fontsize=fontsize)\n",
    "    \n",
    "    ax = plt.gca()\n",
    "    ax.xaxis.set_tick_params(labelsize=20)\n",
    "    ax.yaxis.set_tick_params(labelsize=20)\n",
    "    for tick in ax.xaxis.get_major_ticks():\n",
    "        tick.label1.set_fontsize(fontsize)\n",
    "    for tick in ax.yaxis.get_major_ticks():\n",
    "        tick.label1.set_fontsize(fontsize)\n",
    "            "
   ]
  },
  {
   "cell_type": "markdown",
   "id": "ea7fa2f2-e081-4774-950b-f2fa1b79261c",
   "metadata": {
    "jp-MarkdownHeadingCollapsed": true
   },
   "source": [
    "## Fig5B\n",
    "Plot a zoom in of a burst"
   ]
  },
  {
   "cell_type": "code",
   "execution_count": 9,
   "id": "94d8b221-c86c-474c-9525-e2bd76d99e7b",
   "metadata": {},
   "outputs": [],
   "source": [
    "# load the manual dorado dataset\n",
    "df = pd.read_pickle(path_to_manual_dataset1)\n",
    "\n",
    "# extract the trace just for the nucleus in question\n",
    "good_ids = [2831]\n",
    "\n",
    "df = df[[nuc in good_ids for nuc in df.nucleus_id]]\n",
    "df = enforce_1spot_per_nucleus(df, method='gauss3d_dog')\n",
    "\n",
    "# extract culled traces\n",
    "traces = extract_traces(df, method='gauss3d_dog')"
   ]
  },
  {
   "cell_type": "code",
   "execution_count": 10,
   "id": "cfd04354-a48f-4493-8162-a360bfd37726",
   "metadata": {},
   "outputs": [],
   "source": [
    "plt.figure()\n",
    "# use same max intensity from the full set of traces\n",
    "max_inten = 62139.0\n",
    "for i, trace in enumerate(traces):\n",
    "    t_arr, inten_arr, nucleus = trace\n",
    "    t_arr = non_blank_timepoints[t_arr.astype('int')]\n",
    "    \n",
    "    mrna, protein, fp = predict_protein_v2(inten_arr, t_arr, Tmax=180, t_eval=np.arange(0, 180))\n",
    "\n",
    "    # for trace uncertainty\n",
    "    sub_df = df[df.nucleus_id == nucleus]\n",
    "    t_arr_bkg = sub_df.t.values\n",
    "    bkg_arr = sub_df.offset.values\n",
    "    t_arr_bkg = t_arr_bkg[~np.isnan(bkg_arr)]\n",
    "    bkg_arr = bkg_arr[~np.isnan(bkg_arr)]\n",
    "    s = compute_trace_uncertainty(t_arr_bkg, bkg_arr, inten_arr)\n",
    "    l = inten_arr - s\n",
    "    u = inten_arr + s\n",
    "    \n",
    "    plt.plot(t_arr, inten_arr / max_inten, 'g-', linewidth=6, label='MS2')\n",
    "    plt.plot(t_arr, inten_arr / max_inten, 'o', label='_nolabel_', markersize=12, fillstyle='none', markeredgecolor='k', markeredgewidth=2)\n",
    "    plt.fill_between(t_arr, l / max_inten, u / max_inten, facecolor='g', alpha=0.25)\n",
    "    \n",
    "    plt.xlim([56, 64])\n",
    "    plt.xticks([56, 57, 58, 59, 60, 61, 62, 63, 64])\n",
    "    plt.xlabel('time (min)', fontsize=fontsize)\n",
    "    plt.ylabel('fluorescence intensity (a.u.)', fontsize=fontsize)\n",
    "    \n",
    "    ax = plt.gca()\n",
    "    fontweight = 'bold'\n",
    "    fontproperties = {'family':'sans-serif','sans-serif':['Helvetica'],'weight' : fontweight, 'size' : fontsize}\n",
    "    ax.xaxis.set_tick_params(labelsize=20)\n",
    "    ax.yaxis.set_tick_params(labelsize=20)\n",
    "    for tick in ax.xaxis.get_major_ticks():\n",
    "        tick.label1.set_fontsize(fontsize)\n",
    "    for tick in ax.yaxis.get_major_ticks():\n",
    "        tick.label1.set_fontsize(fontsize)\n",
    "    \n",
    "    ax.spines['top'].set_visible(False)\n",
    "    ax.spines['right'].set_visible(False)\n",
    "\n",
    "    plt.tight_layout()"
   ]
  },
  {
   "cell_type": "markdown",
   "id": "80655e96-1199-43f6-8507-76ee60cf8d4e",
   "metadata": {
    "jp-MarkdownHeadingCollapsed": true
   },
   "source": [
    "## Fig5D\n",
    "Plot an example of a binarized trace"
   ]
  },
  {
   "cell_type": "code",
   "execution_count": 11,
   "id": "c78ebf89-3c31-4f80-85de-84604c27b6db",
   "metadata": {},
   "outputs": [],
   "source": [
    "# load the manual dorado dataset\n",
    "df = pd.read_pickle(path_to_manual_dataset1)\n",
    "\n",
    "good_ids = [2715]\n",
    "\n",
    "df = df[[nuc in good_ids for nuc in df.nucleus_id]]\n",
    "df = enforce_1spot_per_nucleus(df, method='gauss3d_dog')\n",
    "\n",
    "# extract culled traces\n",
    "traces = extract_traces(df, method='gauss3d_dog')\n",
    "\n",
    "            "
   ]
  },
  {
   "cell_type": "code",
   "execution_count": 12,
   "id": "502dfc28-561d-4f96-9527-45f8ede7b899",
   "metadata": {},
   "outputs": [],
   "source": [
    "plt.figure()\n",
    "counter = 0\n",
    "max_inten = df.gauss3d_dog.max()\n",
    "for i, trace in enumerate(traces):\n",
    "    t_arr, inten_arr, nucleus = trace\n",
    "    t_arr = non_blank_timepoints[t_arr.astype('int')]\n",
    "\n",
    "    state = binarize_trace(inten_arr, t_arr, thresh=1.0, window_size=3)\n",
    "    \n",
    "    # for trace uncertainty\n",
    "    sub_df = df[df.nucleus_id == nucleus]\n",
    "    t_arr_bkg = sub_df.t.values\n",
    "    bkg_arr = sub_df.offset.values\n",
    "    t_arr_bkg = t_arr_bkg[~np.isnan(bkg_arr)]\n",
    "    bkg_arr = bkg_arr[~np.isnan(bkg_arr)]\n",
    "    s = compute_trace_uncertainty(t_arr_bkg, bkg_arr, inten_arr)\n",
    "    l = inten_arr - s\n",
    "    u = inten_arr + s\n",
    "    \n",
    "    counter += 1\n",
    "    \n",
    "    plt.plot(t_arr, inten_arr / max_inten, 'g-', linewidth=6, label='MS2')\n",
    "    plt.plot(t_arr, inten_arr / max_inten, 'o', label='_nolabel_', markersize=12, fillstyle='none', markeredgecolor='k', markeredgewidth=2)\n",
    "    plt.fill_between(t_arr, l / max_inten, u / max_inten, facecolor='g', alpha=0.25)\n",
    "    \n",
    "    plt.plot(t_arr, state, 'k-', linewidth=4, label='inferred promoter state')\n",
    "    \n",
    "    plt.xlim([0, 145])\n",
    "    plt.legend(loc=2, fontsize=16)\n",
    "\n",
    "    plt.xticks([0, 30, 60, 90, 120])\n",
    "    plt.xlabel('time (min)', fontsize=fontsize)\n",
    "    plt.ylabel('fluorescence intensity (a.u.)', fontsize=fontsize)\n",
    "    \n",
    "    ax = plt.gca()\n",
    "    fontweight = 'bold'\n",
    "    fontproperties = {'family':'sans-serif','sans-serif':['Helvetica'],'weight' : fontweight, 'size' : fontsize}\n",
    "    ax.xaxis.set_tick_params(labelsize=20)\n",
    "    ax.yaxis.set_tick_params(labelsize=20)\n",
    "    for tick in ax.xaxis.get_major_ticks():\n",
    "        tick.label1.set_fontsize(fontsize)\n",
    "    for tick in ax.yaxis.get_major_ticks():\n",
    "        tick.label1.set_fontsize(fontsize)"
   ]
  },
  {
   "cell_type": "markdown",
   "id": "11752de4-2854-41a6-bb10-83164aaea8b1",
   "metadata": {
    "jp-MarkdownHeadingCollapsed": true
   },
   "source": [
    "# Fig5E\n",
    "Histogram of number of her1 transcriptional bursts per protein oscilliation"
   ]
  },
  {
   "cell_type": "code",
   "execution_count": 13,
   "id": "2573c87f-d2e3-4783-af4a-007f4676a0bd",
   "metadata": {},
   "outputs": [],
   "source": [
    "\"\"\"bursts per pulse\"\"\"\n",
    "bins = np.array([1, 2, 3])\n",
    "probs = np.zeros((2,3))\n",
    "# dorado automatic\n",
    "probs[0] = np.array([0.8414, 0.1521, 0.0065])\n",
    "# z1 automatic\n",
    "probs[1] = np.array([ 0.8824, 0.1176, 0.000])"
   ]
  },
  {
   "cell_type": "code",
   "execution_count": 14,
   "id": "0e647500-d754-4f1f-b639-b0d857440982",
   "metadata": {},
   "outputs": [],
   "source": [
    "plt.figure()\n",
    "for i in range(len(probs)):\n",
    "    plt.plot(bins, probs[i], 'ko', markersize=18, markerfacecolor = 'g', alpha=0.7)\n",
    "plt.xlabel('bursts per oscillation', fontsize=24)\n",
    "plt.ylabel('\\n \\n probability', fontsize=24)\n",
    "plt.xticks([1, 2, 3])\n",
    "plt.xlim([0.5, 3.5])\n",
    "plt.ylim([-0.05, 1])\n",
    "\n",
    "ax = plt.gca()\n",
    "ax.xaxis.set_tick_params(labelsize=20)\n",
    "ax.yaxis.set_tick_params(labelsize=20)\n",
    "for tick in ax.xaxis.get_major_ticks():\n",
    "    tick.label1.set_fontsize(fontsize)\n",
    "for tick in ax.yaxis.get_major_ticks():\n",
    "    tick.label1.set_fontsize(fontsize)\n",
    "\n",
    "plt.tight_layout()"
   ]
  },
  {
   "cell_type": "code",
   "execution_count": null,
   "id": "4f3b9d5b-def5-4591-811b-b0e6c2ed753a",
   "metadata": {},
   "outputs": [],
   "source": []
  }
 ],
 "metadata": {
  "kernelspec": {
   "display_name": "Python (zebrafish-ms2-paper)",
   "language": "python",
   "name": "zebrafish-ms2-paper"
  },
  "language_info": {
   "codemirror_mode": {
    "name": "ipython",
    "version": 3
   },
   "file_extension": ".py",
   "mimetype": "text/x-python",
   "name": "python",
   "nbconvert_exporter": "python",
   "pygments_lexer": "ipython3",
   "version": "3.12.0"
  }
 },
 "nbformat": 4,
 "nbformat_minor": 5
}
