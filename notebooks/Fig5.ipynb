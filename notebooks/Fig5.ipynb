{
 "cells": [
  {
   "cell_type": "markdown",
   "id": "b54c8267-844e-4a34-9799-f4d3ebddea4d",
   "metadata": {},
   "source": [
    "# Fig5"
   ]
  },
  {
   "cell_type": "code",
   "execution_count": 56,
   "id": "edf46563-a5ce-4ec4-a574-f84e1a1b4e21",
   "metadata": {},
   "outputs": [],
   "source": [
    "import numpy as np\n",
    "import matplotlib.pyplot as plt\n",
    "from matplotlib import rc\n",
    "from zebrafish_ms2_paper.trace_analysis import extract_traces, predict_protein_for_all_nuclei, get_on_and_off_times, remove_blips, predict_protein, predict_protein_v2, compute_trace_uncertainty, enforce_1spot_per_nucleus, binarize_trace\n",
    "from zebrafish_ms2_paper.ap_analysis import get_ap_for_somites, get_ap_for_spots, filter_spots_by_distance_from_somite, filter_spots_by_perp_distance_from_ap_axis\n",
    "from zebrafish_ms2_paper.utils import pboc_rc, style_axes, colors, fontsize\n",
    "from matplotlib import rc, rcParams\n",
    "import pandas as pd\n",
    "import pickle\n",
    "import matplotlib as mpl\n",
    "from scipy.signal import find_peaks"
   ]
  },
  {
   "cell_type": "code",
   "execution_count": 57,
   "id": "74dc1212",
   "metadata": {},
   "outputs": [],
   "source": [
    "%matplotlib qt"
   ]
  },
  {
   "cell_type": "code",
   "execution_count": 58,
   "id": "95a422ee",
   "metadata": {},
   "outputs": [],
   "source": [
    "fontsize = 8\n",
    "linewidth = 2\n",
    "markersize = 8"
   ]
  },
  {
   "cell_type": "code",
   "execution_count": 59,
   "id": "d1bb61e0-81b8-4e81-9cd7-9c36b4e2fddc",
   "metadata": {},
   "outputs": [],
   "source": [
    "\"\"\"specify the paths to the required datasets\"\"\"\n",
    "#path_to_manual_dataset1 = r'/media/brandon/Data1/Somitogenesis/Dorado/rerun_quantification_July7_2023/filtered_df.pkl'\n",
    "path_to_manual_dataset1 = r'/media/brandon/Data1/Somitogenesis/Dorado/manual_curation/complete_manual_spots.pkl' #r'/media/brandon/Data1/Somitogenesis/Dorado/manual_traces/all_manual_spots_quant_std_offset.pkl'\n",
    "path_to_non_blank_timepoints = r'/media/brandon/Data1/Somitogenesis/Dorado/non_blank_timepoints_full.pkl'"
   ]
  },
  {
   "cell_type": "code",
   "execution_count": 60,
   "id": "7f248ae0-c112-4758-906e-45e074e17a1f",
   "metadata": {},
   "outputs": [],
   "source": [
    "rcParams.update(pboc_rc)\n",
    "rcParams['pdf.fonttype'] = 42"
   ]
  },
  {
   "cell_type": "code",
   "execution_count": 61,
   "id": "74cdd0a1-381a-4b3b-b1d6-b9d0350290b6",
   "metadata": {},
   "outputs": [],
   "source": [
    "# correct time stamps\n",
    "with open(path_to_non_blank_timepoints,'rb') as fp:\n",
    "    non_blank_timepoints = pickle.load(fp)"
   ]
  },
  {
   "cell_type": "code",
   "execution_count": 90,
   "id": "1e24f1bc",
   "metadata": {},
   "outputs": [],
   "source": [
    "plt.close('all')"
   ]
  },
  {
   "cell_type": "markdown",
   "id": "8ad8f6d4-c58b-4993-8b28-726f85447f17",
   "metadata": {
    "jp-MarkdownHeadingCollapsed": true
   },
   "source": [
    "## Fig 5A\n",
    "Plot example traces. Here we plot 5 traces. We ended up only showing 4 and changing the order to make the figure smaller."
   ]
  },
  {
   "cell_type": "code",
   "execution_count": 91,
   "id": "3aa10a34-418d-4e63-abf0-c4a129f72ccd",
   "metadata": {},
   "outputs": [],
   "source": [
    "# load the manual dorado dataset\n",
    "df = pd.read_pickle(path_to_manual_dataset1)\n",
    "\n",
    "minimum_number_of_spots = 20\n",
    "#good_ids = [2715, 5070, 2831, 7814, 8258]\n",
    "good_ids = [8258, 2715, 2831, 5070 ]\n",
    "\n",
    "df = df[[nuc in good_ids for nuc in df.nucleus_id]]\n",
    "df = enforce_1spot_per_nucleus(df, method='gauss3d_dog')\n",
    "\n",
    "# extract culled traces\n",
    "traces = extract_traces(df, method='gauss3d_dog')\n",
    "traces = [traces[3], traces[0], traces[2], traces[1]]\n",
    "    "
   ]
  },
  {
   "cell_type": "code",
   "execution_count": 92,
   "id": "baca4af9",
   "metadata": {},
   "outputs": [],
   "source": [
    "#f, axs = plt.subplots(7, 1, gridspec_kw={'height_ratios': [1, 1, 1, 1, 1.5, 1.5, 1.5]})\n",
    "f, axd = plt.subplot_mosaic([['a', 'a'], ['b', 'b'], ['c', 'c'], ['d', 'd'], ['e', 'e'], ['f', 'f'], ['g', 'g'], ['h', 'i']], gridspec_kw={'height_ratios': [1, 1, 1, 1, 1.5, 1.5, 1.5, 1.5]})\n",
    "keys = ['a', 'b', 'c', 'd', 'e', 'f','g', 'h', 'i']\n",
    "counter = 0\n",
    "max_inten = df.gauss3d_dog.max()\n",
    "for i, trace in enumerate(traces):\n",
    "    #ax = axs[counter]\n",
    "    ax = axd[keys[counter]]\n",
    "    t_arr, inten_arr, nucleus = trace\n",
    "    t_arr = non_blank_timepoints[t_arr.astype('int')]\n",
    "    \n",
    "    mrna, protein, fp = predict_protein_v2(inten_arr, t_arr, Tmax=180, t_eval=np.arange(0, 180))\n",
    "\n",
    "    # for trace uncertainty\n",
    "    sub_df = df[df.nucleus_id == nucleus]\n",
    "    t_arr_bkg = sub_df.t.values\n",
    "    bkg_arr = sub_df.offset.values\n",
    "    t_arr_bkg = t_arr_bkg[~np.isnan(bkg_arr)]\n",
    "    bkg_arr = bkg_arr[~np.isnan(bkg_arr)]\n",
    "    s = compute_trace_uncertainty(t_arr_bkg, bkg_arr, inten_arr)\n",
    "    l = inten_arr - s\n",
    "    u = inten_arr + s\n",
    "    \n",
    "    # plot protein\n",
    "    t_eval = np.arange(0, len(protein))\n",
    "    protein_ids = np.array([t in t_arr for t in t_eval])\n",
    "    ax.plot(t_arr, protein[protein_ids] / np.max(protein[protein_ids]) * np.max(inten_arr) / max_inten, '-', linewidth=linewidth, alpha=0.5, label='predicted protein', color=colors['blue'])\n",
    "\n",
    "    ax.plot(t_arr, inten_arr / max_inten, '-', linewidth=linewidth, label='her1-MS2', color=colors['green'])\n",
    "    #ax.plot(t_arr, inten_arr / max_inten, 'o', label='_nolabel_', markersize=12, fillstyle='none', markeredgecolor='k', markeredgewidth=1)\n",
    "    ax.fill_between(t_arr, l / max_inten, u / max_inten, facecolor=colors['green'], alpha=0.25)\n",
    "    \n",
    "    ax.set_xlim([0, 145])\n",
    "\n",
    "    #if counter == 0:\n",
    "        #ax.legend(loc=1, fontsize=fontsize, facecolor='w')\n",
    "\n",
    "    if counter == 3:\n",
    "        ax.set_xticks([0, 30, 60, 90, 120])\n",
    "        ax.set_xlabel('time (min)', fontsize=fontsize)\n",
    "    else:\n",
    "        ax.set_xticks([0, 30, 60, 90, 120], labels=[])\n",
    "    \n",
    "    if counter == 2:\n",
    "        ax.set_ylabel('fluorescence intensity (a.u.) \\n', fontsize=fontsize)\n",
    "    \n",
    "    ax = style_axes(ax, fontsize=fontsize)\n",
    "    counter += 1\n",
    "    "
   ]
  },
  {
   "cell_type": "markdown",
   "id": "ea7fa2f2-e081-4774-950b-f2fa1b79261c",
   "metadata": {
    "jp-MarkdownHeadingCollapsed": true
   },
   "source": [
    "## Fig5B\n",
    "Plot a zoom in of a burst"
   ]
  },
  {
   "cell_type": "code",
   "execution_count": 93,
   "id": "94d8b221-c86c-474c-9525-e2bd76d99e7b",
   "metadata": {},
   "outputs": [],
   "source": [
    "# load the manual dorado dataset\n",
    "df = pd.read_pickle(path_to_manual_dataset1)\n",
    "\n",
    "# extract the trace just for the nucleus in question\n",
    "good_ids = [2831]\n",
    "\n",
    "df = df[[nuc in good_ids for nuc in df.nucleus_id]]\n",
    "df = enforce_1spot_per_nucleus(df, method='gauss3d_dog')\n",
    "\n",
    "# extract culled traces\n",
    "traces = extract_traces(df, method='gauss3d_dog')"
   ]
  },
  {
   "cell_type": "code",
   "execution_count": 94,
   "id": "cfd04354-a48f-4493-8162-a360bfd37726",
   "metadata": {},
   "outputs": [],
   "source": [
    "#ax = axs[counter]\n",
    "ax = axd[keys[counter]]\n",
    "# use same max intensity from the full set of traces\n",
    "max_inten = 62139.0\n",
    "for i, trace in enumerate(traces):\n",
    "    t_arr, inten_arr, nucleus = trace\n",
    "    t_arr = non_blank_timepoints[t_arr.astype('int')]\n",
    "    \n",
    "    mrna, protein, fp = predict_protein_v2(inten_arr, t_arr, Tmax=180, t_eval=np.arange(0, 180))\n",
    "\n",
    "    # for trace uncertainty\n",
    "    sub_df = df[df.nucleus_id == nucleus]\n",
    "    t_arr_bkg = sub_df.t.values\n",
    "    bkg_arr = sub_df.offset.values\n",
    "    t_arr_bkg = t_arr_bkg[~np.isnan(bkg_arr)]\n",
    "    bkg_arr = bkg_arr[~np.isnan(bkg_arr)]\n",
    "    s = compute_trace_uncertainty(t_arr_bkg, bkg_arr, inten_arr)\n",
    "    l = inten_arr - s\n",
    "    u = inten_arr + s\n",
    "    \n",
    "    ax.plot(t_arr, inten_arr / max_inten, '-', linewidth=linewidth, label='her1-MS2', color=colors['green'])\n",
    "    ax.plot(t_arr, inten_arr / max_inten, 'o', label='_nolabel_', markersize=markersize, fillstyle='none', markeredgecolor='k', markeredgewidth=1)\n",
    "    ax.fill_between(t_arr, l / max_inten, u / max_inten, facecolor=colors['green'], alpha=0.25)\n",
    "    \n",
    "    ax.set_xlim([56, 64])\n",
    "    ax.set_xticks([56, 57, 58, 59, 60, 61, 62, 63, 64])\n",
    "    ax.set_xlabel('time (min)', fontsize=fontsize)\n",
    "    ax.set_ylabel('fluorescence \\nintensity (a.u.)', fontsize=fontsize)\n",
    "    \n",
    "    ax = style_axes(ax, fontsize=fontsize)\n",
    "\n",
    "counter += 1"
   ]
  },
  {
   "cell_type": "code",
   "execution_count": 95,
   "id": "c1742fa3",
   "metadata": {},
   "outputs": [],
   "source": [
    "#ax = axs[counter]\n",
    "ax = axd[keys[counter]]\n",
    "ax.set_xticks([])\n",
    "ax.set_yticks([])\n",
    "ax = style_axes(ax)\n",
    "counter += 1"
   ]
  },
  {
   "cell_type": "markdown",
   "id": "80655e96-1199-43f6-8507-76ee60cf8d4e",
   "metadata": {
    "jp-MarkdownHeadingCollapsed": true
   },
   "source": [
    "## Fig5D\n",
    "Plot an example of a binarized trace"
   ]
  },
  {
   "cell_type": "code",
   "execution_count": 96,
   "id": "c78ebf89-3c31-4f80-85de-84604c27b6db",
   "metadata": {},
   "outputs": [],
   "source": [
    "# load the manual dorado dataset\n",
    "df = pd.read_pickle(path_to_manual_dataset1)\n",
    "\n",
    "good_ids = [2715]\n",
    "\n",
    "df = df[[nuc in good_ids for nuc in df.nucleus_id]]\n",
    "df = enforce_1spot_per_nucleus(df, method='gauss3d_dog')\n",
    "\n",
    "# extract culled traces\n",
    "traces = extract_traces(df, method='gauss3d_dog')\n",
    "\n",
    "            "
   ]
  },
  {
   "cell_type": "code",
   "execution_count": 97,
   "id": "502dfc28-561d-4f96-9527-45f8ede7b899",
   "metadata": {},
   "outputs": [],
   "source": [
    "#ax = axs[counter]\n",
    "ax = axd[keys[counter]]\n",
    "max_inten = df.gauss3d_dog.max()\n",
    "for i, trace in enumerate(traces):\n",
    "    t_arr, inten_arr, nucleus = trace\n",
    "    t_arr = non_blank_timepoints[t_arr.astype('int')]\n",
    "\n",
    "    state = binarize_trace(inten_arr, t_arr, thresh=1.0, window_size=3)\n",
    "    \n",
    "    # for trace uncertainty\n",
    "    sub_df = df[df.nucleus_id == nucleus]\n",
    "    t_arr_bkg = sub_df.t.values\n",
    "    bkg_arr = sub_df.offset.values\n",
    "    t_arr_bkg = t_arr_bkg[~np.isnan(bkg_arr)]\n",
    "    bkg_arr = bkg_arr[~np.isnan(bkg_arr)]\n",
    "    s = compute_trace_uncertainty(t_arr_bkg, bkg_arr, inten_arr)\n",
    "    l = inten_arr - s\n",
    "    u = inten_arr + s\n",
    "        \n",
    "    ax.plot(t_arr, inten_arr / max_inten, '-', linewidth=linewidth, label='her1-MS2', color=colors['green'])\n",
    "    #ax.plot(t_arr, inten_arr / max_inten, 'o', label='_nolabel_', markersize=12, fillstyle='none', markeredgecolor='k', markeredgewidth=2)\n",
    "    ax.fill_between(t_arr, l / max_inten, u / max_inten, facecolor=colors['green'], alpha=0.25)\n",
    "    \n",
    "    ax.plot(t_arr, state, 'k-', linewidth=1, label='inferred promoter state')\n",
    "    \n",
    "    ax.set_xlim([0, 145])\n",
    "    #ax.legend(loc=2, fontsize=fontsize, facecolor='w')\n",
    "\n",
    "    ax.set_xticks([0, 30, 60, 90, 120])\n",
    "    ax.set_xlabel('time (min)', fontsize=fontsize)\n",
    "    ax.set_ylabel('fluorescence \\nintensity (a.u.)', fontsize=fontsize, color=colors['green'])\n",
    "    \n",
    "    ax = style_axes(ax, fontsize=fontsize)\n",
    "counter += 1"
   ]
  },
  {
   "cell_type": "markdown",
   "id": "11752de4-2854-41a6-bb10-83164aaea8b1",
   "metadata": {
    "jp-MarkdownHeadingCollapsed": true
   },
   "source": [
    "# Fig5E\n",
    "Histogram of number of her1 transcriptional bursts per protein oscilliation"
   ]
  },
  {
   "cell_type": "code",
   "execution_count": 107,
   "id": "2573c87f-d2e3-4783-af4a-007f4676a0bd",
   "metadata": {},
   "outputs": [],
   "source": [
    "\"\"\"bursts per pulse\"\"\"\n",
    "bins = np.array([1, 2, 3])\n",
    "probs = np.zeros((2,3))\n",
    "# dorado automatic\n",
    "#probs[0] = np.array([0.8414, 0.1521, 0.0065])\n",
    "# z1 automatic\n",
    "#probs[1] = np.array([ 0.8824, 0.1176, 0.000])\n",
    "\n",
    "# new dorado manual\n",
    "probs = [np.array([0.919, 0.076, 0.005])]\n"
   ]
  },
  {
   "cell_type": "code",
   "execution_count": 118,
   "id": "b5f85367",
   "metadata": {},
   "outputs": [],
   "source": [
    "i = 0\n",
    "f, ax = plt.subplots(figsize=(1.5, 1.5))\n",
    "ax.bar(bins, probs[i], facecolor=colors['green'], width=0.5)\n",
    "ax.set_xlabel('bursts per oscillation', fontsize=fontsize)\n",
    "ax.set_ylabel('\\n \\n probability', fontsize=fontsize)\n",
    "ax.set_xticks([1, 2, 3])\n",
    "ax.set_xlim([0.5, 3.5])\n",
    "ax.set_xlim([0.5, 3.5])\n",
    "ax.set_ylim([-0.05, 1])\n",
    "\n",
    "ax = style_axes(ax, fontsize=fontsize)\n",
    "f.tight_layout()"
   ]
  },
  {
   "cell_type": "code",
   "execution_count": 99,
   "id": "ba207586",
   "metadata": {},
   "outputs": [],
   "source": [
    "ax = axd[keys[counter]]\n",
    "#for i in range(len(probs)):\n",
    "#    ax.plot(bins, probs[i], 'ko', markersize=markersize, markerfacecolor = colors['green'], alpha=0.7)\n",
    "i = 0\n",
    "ax.bar(bins, probs[i], facecolor=colors['green'], width=0.5)\n",
    "ax.set_xlabel('bursts per oscillation', fontsize=fontsize)\n",
    "ax.set_ylabel('\\n \\n probability', fontsize=fontsize)\n",
    "ax.set_xticks([1, 2, 3])\n",
    "ax.set_xlim([0.5, 3.5])\n",
    "ax.set_xlim([0.5, 3.5])\n",
    "ax.set_ylim([-0.05, 1])\n",
    "\n",
    "ax = style_axes(ax, fontsize=fontsize)\n",
    "counter += 1"
   ]
  },
  {
   "cell_type": "markdown",
   "id": "047e8c96",
   "metadata": {},
   "source": [
    "## Period dists"
   ]
  },
  {
   "cell_type": "code",
   "execution_count": 100,
   "id": "d89b058a",
   "metadata": {},
   "outputs": [],
   "source": [
    "def extract_burst_periods_by_ap(df, method='gauss3d_dog'):\n",
    "    traces = extract_traces(df, method=method)\n",
    "    aps = []\n",
    "    periods = []\n",
    "    event_times = []\n",
    "    for trace in traces:\n",
    "        t_arr, inten_arr, nucleus = trace\n",
    "        sub_df = df[df.nucleus_id == nucleus]\n",
    "        state = binarize_trace(inten_arr, t_arr, thresh=1.0, window_size=3)\n",
    "        on_times, off_times = get_on_and_off_times(state, t_arr)\n",
    "        if len(on_times) < 2:\n",
    "            continue\n",
    "        these_periods = np.diff(on_times)\n",
    "\n",
    "        these_reference_times = off_times[1:len(these_periods)+1]\n",
    "        these_aps = np.zeros(len(these_reference_times))\n",
    "        for i, t in enumerate(these_reference_times):\n",
    "            these_aps[i] = sub_df[np.abs(sub_df.t - t) == np.min(np.abs(sub_df.t - t))].ap.iloc[0]\n",
    "\n",
    "        aps.extend(these_aps)\n",
    "        periods.extend(these_periods)\n",
    "        event_times.extend(these_reference_times)\n",
    "        \n",
    "    return periods, event_times, aps\n",
    "\n",
    "\n",
    "def bootstrap_period_dist(periods, bins, n_bootstraps=100):\n",
    "    period_dists = np.zeros((n_bootstraps, len(bins) - 1))\n",
    "    for n in range(n_bootstraps):\n",
    "        ids = np.random.choice(len(periods), len(periods))\n",
    "        counts, _ = np.histogram(np.array(periods)[ids], bins)\n",
    "        prob_dens = counts / np.sum(counts) / np.diff(bins)\n",
    "        period_dists[n] = prob_dens\n",
    "    \n",
    "    return np.mean(period_dists, axis=0), np.std(period_dists, axis=0)\n",
    "\n",
    "\n",
    "def extract_protein_periods_by_ap(df, method='pred_protein', distance=15, prominence=1e6, burn_in_time=20):\n",
    "    traces = extract_traces(df, method=method)\n",
    "    aps = []\n",
    "    periods = []\n",
    "    event_times = []\n",
    "    for trace in traces:\n",
    "        t_arr, inten_arr, nucleus = trace\n",
    "        if len(t_arr) <= burn_in_time:\n",
    "            continue\n",
    "        inten_arr = inten_arr[burn_in_time:]\n",
    "        t_arr = t_arr[burn_in_time:]\n",
    "        sub_df = df[df.nucleus_id == nucleus]\n",
    "        peaks, props = find_peaks(inten_arr, distance=distance, prominence=prominence)\n",
    "        state = np.zeros(len(inten_arr))\n",
    "        for i in range(len(peaks)):\n",
    "            state[int(peaks[i])] = 1\n",
    "            \n",
    "        on_times, off_times = get_on_and_off_times(state, t_arr)\n",
    "        if len(on_times) < 2:\n",
    "            continue\n",
    "        these_periods = np.diff(on_times)\n",
    "\n",
    "        these_reference_times = off_times[:len(these_periods)]\n",
    "        these_aps = np.zeros(len(these_reference_times))\n",
    "        for i, t in enumerate(these_reference_times):\n",
    "            these_aps[i] = sub_df[np.abs(sub_df.t - t) == np.min(np.abs(sub_df.t - t))].ap.iloc[0]\n",
    "\n",
    "        aps.extend(these_aps)\n",
    "        periods.extend(these_periods)\n",
    "        event_times.extend(these_reference_times)\n",
    "        \n",
    "    return periods, event_times, aps"
   ]
  },
  {
   "cell_type": "code",
   "execution_count": 101,
   "id": "61aea649",
   "metadata": {},
   "outputs": [],
   "source": [
    "#path_to_df = r'/media/brandon/Data1/Somitogenesis/Dorado/gauss_001_v2_sigma_filt/filtered_df.pkl'\n",
    "path_to_df = r'/media/brandon/Data1/Somitogenesis/Dorado/manual_curation/complete_manual_spots.pkl'\n",
    "#path_to_df = r'/media/brandon/Data1/Somitogenesis/Dorado/manual_traces/all_manual_spots_quant_std_offset.pkl'\n",
    "\n",
    "df = pd.read_pickle(path_to_df)\n",
    "\n",
    "with open(r'/media/brandon/Data1/Somitogenesis/Dorado/ap.pkl', 'rb') as f:\n",
    "    ap = pickle.load(f)\n",
    "    \n",
    "if 'ap' not in df.keys():\n",
    "    df = get_ap_for_spots(df, ap)\n",
    "    \n",
    "# filter df\n",
    "minimum_number_of_spots = 10\n",
    "traces = extract_traces(df, method='gauss3d_dog')\n",
    "spots_per_trace = [np.sum(trace[1] > 0) for trace in traces]\n",
    "good_nuc_ids = np.unique(df.nucleus_id)[np.array(spots_per_trace) > minimum_number_of_spots]\n",
    "df = df[[nid in good_nuc_ids for nid in df.nucleus_id.tolist()]]\n",
    "traces = extract_traces(df, method='gauss3d_dog')\n",
    "df = enforce_1spot_per_nucleus(df, method='gauss3d_dog')"
   ]
  },
  {
   "cell_type": "code",
   "execution_count": 102,
   "id": "dc1dab13",
   "metadata": {},
   "outputs": [],
   "source": [
    "burst_periods, event_times, aps = extract_burst_periods_by_ap(df)"
   ]
  },
  {
   "cell_type": "code",
   "execution_count": 103,
   "id": "9e185398",
   "metadata": {},
   "outputs": [
    {
     "name": "stderr",
     "output_type": "stream",
     "text": [
      "/home/brandon/Documents/Code/zebrafish-ms2-paper/zebrafish_ms2_paper/trace_analysis.py:327: FutureWarning: The behavior of DataFrame concatenation with empty or all-NA entries is deprecated. In a future version, this will no longer exclude empty or all-NA columns when determining the result dtypes. To retain the old behavior, exclude the relevant entries before the concat operation.\n",
      "  protein_df = pd.concat((protein_df, tmp_df), axis=0)\n"
     ]
    }
   ],
   "source": [
    "tracks = pd.read_csv(r'/media/brandon/Data1/Somitogenesis/Dorado/tracks_corrected.csv')\n",
    "protein_df = predict_protein_for_all_nuclei(df, tracks)\n",
    "protein_df = get_ap_for_spots(protein_df, ap)\n",
    "\n",
    "periods, event_times, aps = extract_protein_periods_by_ap(protein_df)"
   ]
  },
  {
   "cell_type": "code",
   "execution_count": 104,
   "id": "5f8aff7c",
   "metadata": {},
   "outputs": [],
   "source": [
    "ax = axd[keys[counter]]\n",
    "# protein\n",
    "bins = np.linspace(0, 48, 10)\n",
    "prob_dens, uncertainty_prob_dens = bootstrap_period_dist(periods, bins)\n",
    "\n",
    "#plt.plot(bins[:-1], prob_dens, 'ko', markersize=18, markerfacecolor=colors['blue'], alpha=1, label='predicted Her1 protein')\n",
    "#plt.plot(bins[:-1], prob_dens, '-', color=colors['blue'], linewidth=3)\n",
    "ax.errorbar(bins[:-1], prob_dens, uncertainty_prob_dens, marker='o', markerfacecolor=(colors['blue'],) + (0.5,), markersize=markersize,\n",
    "            markeredgecolor='k', linewidth=linewidth, elinewidth=linewidth, capsize=linewidth, capthick=linewidth, ecolor=colors['blue'], \n",
    "             color=colors['blue'], label='predicted Her1 protein oscillations', barsabove=True)\n",
    "\n",
    "# bursts\n",
    "prob_dens, uncertainty_prob_dens = bootstrap_period_dist(burst_periods, bins)\n",
    "ax.errorbar(bins[:-1], prob_dens, uncertainty_prob_dens, marker='o', markerfacecolor=(colors['green'],) + (0.5,), markersize=markersize,\n",
    "            markeredgecolor='k', linewidth=linewidth, elinewidth=linewidth, capsize=linewidth, capthick=linewidth, ecolor=colors['green'], \n",
    "             color=colors['green'], label='measured her1 transcriptional bursts', barsabove=True)\n",
    "\n",
    "\n",
    "\n",
    "ax.set_xlabel('period (min)', fontsize=fontsize)\n",
    "ax.set_ylabel('probability \\ndensity (min)$^{-1}$', fontsize=fontsize)\n",
    "#ax.legend(fontsize= fontsize, facecolor='w', loc=2)\n",
    "ax.set_ylim([0,0.07])\n",
    "ax.set_yticks([0, 0.06])\n",
    "ax = style_axes(ax, fontsize=fontsize)"
   ]
  },
  {
   "cell_type": "code",
   "execution_count": 292,
   "id": "dd414177",
   "metadata": {},
   "outputs": [],
   "source": [
    "plt.savefig(r'/home/brandon/Documents/Code/zebrafish-ms2-paper/figures/Fig5_python.pdf')"
   ]
  },
  {
   "cell_type": "code",
   "execution_count": null,
   "id": "ce44f4e6",
   "metadata": {},
   "outputs": [],
   "source": []
  }
 ],
 "metadata": {
  "kernelspec": {
   "display_name": "Python (zebrafish-ms2-paper)",
   "language": "python",
   "name": "zebrafish-ms2-paper"
  },
  "language_info": {
   "codemirror_mode": {
    "name": "ipython",
    "version": 3
   },
   "file_extension": ".py",
   "mimetype": "text/x-python",
   "name": "python",
   "nbconvert_exporter": "python",
   "pygments_lexer": "ipython3",
   "version": "3.12.0"
  }
 },
 "nbformat": 4,
 "nbformat_minor": 5
}
