{
 "cells": [
  {
   "cell_type": "markdown",
   "id": "f90a7de5-89a4-46bf-b094-9b0107454c2f",
   "metadata": {},
   "source": [
    "# Fig6"
   ]
  },
  {
   "cell_type": "code",
   "execution_count": 1,
   "id": "fbda110e-9694-4341-b178-7e7213902ea1",
   "metadata": {},
   "outputs": [],
   "source": [
    "from zebrafish_ms2_paper.gillespie_simulations_delay import Params, simulate_multiple_copies, sim_ms2, hill_function\n",
    "from zebrafish_ms2_paper.trace_analysis import binarize_trace, get_on_and_off_times, get_burst_durations, get_burst_inactive_durations, extract_traces\n",
    "from zebrafish_ms2_paper.utils import pboc_rc, style_axes, colors, fontsize\n",
    "import matplotlib.pyplot as plt\n",
    "from matplotlib import rc, rcParams\n",
    "import numpy as np\n",
    "from multiprocessing import Pool\n",
    "import pandas as pd\n",
    "import pickle"
   ]
  },
  {
   "cell_type": "code",
   "execution_count": 107,
   "id": "64a8c9f0",
   "metadata": {},
   "outputs": [],
   "source": [
    "rcParams.update(pboc_rc)\n",
    "rcParams['pdf.fonttype'] = 42"
   ]
  },
  {
   "cell_type": "code",
   "execution_count": 3,
   "id": "5a7b7a2b",
   "metadata": {},
   "outputs": [
    {
     "data": {
      "text/plain": [
       "{'green': '#7AA974',\n",
       " 'light_green': '#BFD598',\n",
       " 'pale_green': '#DCECCB',\n",
       " 'yellow': '#EAC264',\n",
       " 'light_yellow': '#F3DAA9',\n",
       " 'pale_yellow': '#FFEDCE',\n",
       " 'blue': '#738FC1',\n",
       " 'light_blue': '#A9BFE3',\n",
       " 'pale_blue': '#C9D7EE',\n",
       " 'red': '#D56C55',\n",
       " 'light_red': '#E8B19D',\n",
       " 'pale_red': '#F1D4C9',\n",
       " 'purple': '#AB85AC',\n",
       " 'light_purple': '#D4C2D9',\n",
       " 'dark_green': '#7E9D90',\n",
       " 'dark_brown': '#905426'}"
      ]
     },
     "execution_count": 3,
     "metadata": {},
     "output_type": "execute_result"
    }
   ],
   "source": [
    "colors"
   ]
  },
  {
   "cell_type": "code",
   "execution_count": 73,
   "id": "cd32e1f9",
   "metadata": {},
   "outputs": [],
   "source": [
    "fontsize = 9\n",
    "linewidth = 2\n",
    "run_sim = True\n",
    "n_replicates = 15\n",
    "markersize = 8\n",
    "#bins = np.arange(3, 55)\n",
    "bins = np.linspace(3, 55, 12)\n",
    "#bins = np.linspace(3, 40, 15)\n"
   ]
  },
  {
   "cell_type": "code",
   "execution_count": 5,
   "id": "dca6be9a",
   "metadata": {},
   "outputs": [],
   "source": [
    "%matplotlib qt"
   ]
  },
  {
   "cell_type": "code",
   "execution_count": 6,
   "id": "e403c28a-b450-4192-9679-51146867d9ca",
   "metadata": {},
   "outputs": [],
   "source": [
    "\"\"\"specify the paths to the required datasets\"\"\"\n",
    "path_to_dataset1 = r'/media/brandon/Data1/Somitogenesis/Dorado/manual_curation/complete_manual_spots.pkl'\n",
    "path_to_non_blank_timepoints = r'/media/brandon/Data1/Somitogenesis/Dorado/non_blank_timepoints_full.pkl'"
   ]
  },
  {
   "cell_type": "code",
   "execution_count": 7,
   "id": "5fc647f2",
   "metadata": {},
   "outputs": [],
   "source": [
    "df = pd.read_pickle(path_to_dataset1)"
   ]
  },
  {
   "cell_type": "code",
   "execution_count": 106,
   "id": "eaef439e",
   "metadata": {},
   "outputs": [
    {
     "data": {
      "text/plain": [
       "101"
      ]
     },
     "execution_count": 106,
     "metadata": {},
     "output_type": "execute_result"
    }
   ],
   "source": [
    "len(df.nucleus_id.unique())"
   ]
  },
  {
   "cell_type": "code",
   "execution_count": 8,
   "id": "a4f14781",
   "metadata": {},
   "outputs": [
    {
     "data": {
      "text/plain": [
       "array([4575.5862069])"
      ]
     },
     "execution_count": 8,
     "metadata": {},
     "output_type": "execute_result"
    }
   ],
   "source": [
    "intens = df.gauss3d_dog.values\n",
    "brightest_spot_intensity = np.quantile(intens[intens > 0], q=(0.95,))\n",
    "brightest_spot_intensity / 10 / 0.29 / 4"
   ]
  },
  {
   "cell_type": "code",
   "execution_count": 9,
   "id": "d494a1b7",
   "metadata": {},
   "outputs": [
    {
     "data": {
      "text/plain": [
       "0.21940906682372294"
      ]
     },
     "execution_count": 9,
     "metadata": {},
     "output_type": "execute_result"
    }
   ],
   "source": [
    "\"\"\"estimate dynamic range of spot intensities to determine detection threshold for simluated data.\n",
    "The intensities are approximately lognormally distributed. Let m, s be the mean and standard deviation respectively\n",
    "of log10-transformed intensities. Then we estimate the detection threshold by\n",
    "\n",
    "I_min = 10 ** (m - s)\n",
    "\n",
    "In practice, we then take I_min \n",
    "\"\"\"\n",
    "df = pd.read_pickle(path_to_dataset1)\n",
    "intens = df.gauss3d_dog.values\n",
    "plt.figure()\n",
    "plt.hist(np.log10(intens[intens > 0]))\n",
    "10**((np.mean(np.log10(intens[intens > 0])) - np.std(np.log10(intens[intens > 0]))) - (np.mean(np.log10(intens[intens > 0])) + np.std(np.log10(intens[intens > 0]))))\n"
   ]
  },
  {
   "cell_type": "code",
   "execution_count": 10,
   "id": "c1b48217",
   "metadata": {},
   "outputs": [],
   "source": [
    "m = np.mean(np.log10(intens[intens > 0]))\n",
    "s = np.std(np.log10(intens[intens > 0]))"
   ]
  },
  {
   "cell_type": "markdown",
   "id": "aa6cb1f4-0f2d-40d1-bb86-878577d64bd5",
   "metadata": {
    "jp-MarkdownHeadingCollapsed": true
   },
   "source": [
    "## Fig6B,C,D\n",
    "Plot example traces for the three burst regulation models. Here we also plot the predicted protein traces, though we removed these from the final figure for simplicity. This code generates new stochastic simulations, so the traces won't be exactly the same was what is plotted in the figure."
   ]
  },
  {
   "cell_type": "code",
   "execution_count": 110,
   "id": "b2a64772",
   "metadata": {},
   "outputs": [],
   "source": [
    "def plot_example_trace(p, f=None, axs=None, burn_in_time=45):\n",
    "    if f is None:\n",
    "        f, axs = plt.subplots(2, 1, figsize=(4,3))\n",
    "\n",
    "    X, tvec, p = simulate_multiple_copies(p)\n",
    "    state = X[:, 0]\n",
    "    mrna = X[:, -2]\n",
    "    protein = X[:, -1]\n",
    "    \n",
    "    start_id = np.where(tvec > burn_in_time)[0][0]\n",
    "    state = state[start_id:]\n",
    "    mrna = mrna[start_id:]\n",
    "    protein = protein[start_id:]\n",
    "    tvec = tvec[start_id:] - burn_in_time\n",
    "    X = X[start_id:]\n",
    "\n",
    "    production_rate = p.transcription_rate_0 + p.transcription_rate_1 * hill_function(protein, p.KD_transcription_rate, p.n)\n",
    "    #detection_threshold = 0.0\n",
    "    relevant_production_rate = production_rate[np.where(tvec > burn_in_time)[0]]\n",
    "    m = np.mean(np.log10(relevant_production_rate[relevant_production_rate > 0]))\n",
    "    s = np.std(np.log10(relevant_production_rate[relevant_production_rate > 0]))\n",
    "    detection_threshold = 0.22 * 10 ** (m + s) * w\n",
    "    #detection_threshold = 0.2 * np.max(production_rate[np.where(tvec > burn_in_time)[0][0]]) * w\n",
    "\n",
    "    ms2, t_obs = sim_ms2(state, tvec, production_rate, w, delta_t, sigma, detection_threshold)\n",
    "\n",
    "    inferred_state = binarize_trace(ms2, t_obs, thresh=1e-1, window_size=3)\n",
    "\n",
    "    # plot\n",
    "    # state\n",
    "    ax = axs[0]\n",
    "    ax.plot(tvec, state, 'k-', linewidth=linewidth)\n",
    "\n",
    "    #plt.title('amplitude regulation', fontsize=fontsize)\n",
    "    ax.set_ylabel('promoter \\nstate \\n(0, 1)', fontsize=fontsize)\n",
    "    ax.set_ylim([0,1.2])\n",
    "    ax.set_xticks([0, 60, 120, 180], labels=[])\n",
    "    ax = style_axes(ax, fontsize=fontsize)\n",
    "\n",
    "    # MS2\n",
    "    ax = axs[1]\n",
    "    ax.plot(tvec, protein / np.max(protein), '-', linewidth=linewidth, color=colors['purple'], label='protein')\n",
    "    ax.plot(t_obs, ms2 / np.max(ms2), '-', linewidth=linewidth, color=colors['green'], label='MS2')\n",
    "    #ax.plot(t_obs, inferred_state, '-', linewidth=linewidth, color='k', label='inferred state')\n",
    "    #ax.plot(tvec, production_rate / np.max(production_rate), '-', linewidth=linewidth, color=colors['blue'], label='transcription rate')\n",
    "    \n",
    "    #plt.title('amplitude regulation', fontsize=fontsize)\n",
    "    ax.set_ylabel('simulated \\nher1 activity \\n(fraction of max)', fontsize=fontsize)\n",
    "    ax.set_xlabel('time (min)', fontsize=fontsize)\n",
    "    ax.set_ylim([0,1.5])\n",
    "    ax.set_xticks([0, 60, 120, 180])\n",
    "    ax.legend(fontsize=fontsize, facecolor='none', loc=1, ncol=2)\n",
    "    ax = style_axes(ax, fontsize=fontsize)\n",
    "\n",
    "    f.tight_layout()\n",
    "    \n",
    "    return f, axs, X, tvec"
   ]
  },
  {
   "cell_type": "code",
   "execution_count": 12,
   "id": "fd8fd755-eb6e-4ef4-913a-6a05e8b3a894",
   "metadata": {},
   "outputs": [],
   "source": [
    "\"\"\"fixed model params\"\"\"\n",
    "# w = 3.65\n",
    "# delta_t = 1.0\n",
    "# sigma = 0.2\n",
    "\n",
    "elongation_time = 0.29\n",
    "delta_t = 1.0\n",
    "w = elongation_time / delta_t\n",
    "sigma = 0.2"
   ]
  },
  {
   "cell_type": "code",
   "execution_count": 111,
   "id": "f93f1299",
   "metadata": {},
   "outputs": [],
   "source": [
    "\"\"\"amplitude regulation, no bursts\"\"\"\n",
    "p = Params()\n",
    "p.initial_state = np.array([1])\n",
    "p.Tmax = 240\n",
    "p.k_off0 = 0#0.3#0.025\n",
    "p.k_off1 = 0.0#0.0\n",
    "p.k_on0 = 1000#0.1#.0\n",
    "p.k_on1 = 0#2.5\n",
    "p.transcription_rate_0 = 0\n",
    "\n",
    "p.translation_rate = 4.5\n",
    "p.transcription_rate_1 = 10.0 / len(p.initial_state)\n",
    "\n",
    "p.mrna_decay_rate = 0.23\n",
    "p.protein_decay_rate = 0.23\n",
    "\n",
    "p.delay = 7.5\n",
    "\n",
    "p.KD_transcription_rate = 100\n",
    "p.n = 3\n",
    "\n",
    "f, axs, X, tvec = plot_example_trace(p)"
   ]
  },
  {
   "cell_type": "code",
   "execution_count": 513,
   "id": "4ee96d66",
   "metadata": {},
   "outputs": [
    {
     "data": {
      "text/plain": [
       "433.0"
      ]
     },
     "execution_count": 513,
     "metadata": {},
     "output_type": "execute_result"
    }
   ],
   "source": [
    "np.max(X[:,-1])"
   ]
  },
  {
   "cell_type": "code",
   "execution_count": 31,
   "id": "54516ce0",
   "metadata": {},
   "outputs": [],
   "source": [
    "\"\"\"amplitude regulation with bursts\"\"\"\n",
    "p = Params()\n",
    "p.initial_state = np.array([1])\n",
    "p.Tmax = 240\n",
    "p.k_off0 = 0.4#0*0.08#025\n",
    "p.k_off1 = 0.0#0.0\n",
    "p.k_on0 = 4#0*0.4\n",
    "p.k_on1 = 0#2.5\n",
    "p.transcription_rate_0 = 0\n",
    "\n",
    "p.translation_rate = 4.5\n",
    "p.transcription_rate_1 = 10.0 / len(p.initial_state)\n",
    "\n",
    "p.mrna_decay_rate = 0.23\n",
    "p.protein_decay_rate = 0.23\n",
    "\n",
    "p.delay = 7.5\n",
    "\n",
    "p.KD_transcription_rate = 100\n",
    "p.n = 3\n",
    "\n",
    "f, axs, X, tvec = plot_example_trace(p)"
   ]
  },
  {
   "cell_type": "code",
   "execution_count": 81,
   "id": "a4c6a1fa-2f31-40ec-8f4b-77de9ee557dc",
   "metadata": {},
   "outputs": [],
   "source": [
    "\"\"\"k_on regulation\"\"\"\n",
    "p = Params()\n",
    "p.initial_state = np.array([1])#, 1, 1, 1])\n",
    "p.Tmax = 240#1000\n",
    "p.k_off0 = 0.2#0.2#2.2#0.025\n",
    "p.k_off1 = 0.0#0.0\n",
    "p.k_on0 = 0.0#0.1#2.2\n",
    "p.k_on1 = 3#2.5\n",
    "p.transcription_rate_0 = 10#10.0 / len(p.initial_state)\n",
    "\n",
    "p.translation_rate = 4.5#4.5# max possible 16\n",
    "p.transcription_rate_1 = 0 #10.0 / len(p.initial_state) max possible 50\n",
    "\n",
    "p.mrna_decay_rate = 0.23\n",
    "p.protein_decay_rate = 0.23\n",
    "\n",
    "p.delay = 0.0\n",
    "\n",
    "p.KD_k_on = 10\n",
    "p.n = 10\n",
    "\n",
    "f, axs, X, tvec = plot_example_trace(p)"
   ]
  },
  {
   "cell_type": "code",
   "execution_count": 561,
   "id": "e6b6ad8a-45dc-44b5-a350-fad5040f7fd9",
   "metadata": {},
   "outputs": [],
   "source": [
    "\"\"\"k_off regulation\"\"\"\n",
    "p = Params()\n",
    "p.initial_state = np.array([1])#, 1, 1, 1])\n",
    "p.Tmax = 240#1000\n",
    "p.k_off0 = 0.0#0.2#2.2#0.025\n",
    "p.k_off1 = 1000*0.08#0.0\n",
    "p.k_on0 = 0.05#0.1#2.2\n",
    "p.k_on1 = 0.0#2.5\n",
    "p.transcription_rate_0 = 10#10.0 / len(p.initial_state)\n",
    "\n",
    "p.translation_rate = 4.5#4.5# max possible 16\n",
    "p.transcription_rate_1 = 0 #10.0 / len(p.initial_state) max possible 50\n",
    "\n",
    "p.mrna_decay_rate = 0.23\n",
    "p.protein_decay_rate = 0.23\n",
    "p.delay = 0\n",
    "\n",
    "p.KD_k_on = 10\n",
    "p.KD_k_off = 800\n",
    "p.n = 20\n",
    "f, axs, X, tvec = plot_example_trace(p)"
   ]
  },
  {
   "cell_type": "code",
   "execution_count": 196,
   "id": "38d5bc56",
   "metadata": {},
   "outputs": [
    {
     "data": {
      "text/plain": [
       "757.0"
      ]
     },
     "execution_count": 196,
     "metadata": {},
     "output_type": "execute_result"
    }
   ],
   "source": [
    "np.max(X[:,-1])"
   ]
  },
  {
   "cell_type": "code",
   "execution_count": 76,
   "id": "7dcab5e0",
   "metadata": {},
   "outputs": [],
   "source": [
    "\"\"\"k_on and k_off regulation, complete regulation\"\"\"\n",
    "p = Params()\n",
    "p.number_of_random_numbers_to_pregenerate = 1e6\n",
    "p.initial_state = np.array([1])#, 1, 1, 1])\n",
    "p.Tmax = 240#1000\n",
    "p.k_off0 = 0.0#0.2#0.2#2.2#0.025\n",
    "p.k_off1 = 0.2#0.2#0.0\n",
    "p.k_on0 = 0.0#0.1#0.1#2.2\n",
    "p.k_on1 = 0.2#0.1#2.5\n",
    "p.transcription_rate_0 = 10#10.0 / len(p.initial_state)\n",
    "\n",
    "p.translation_rate = 4.5#4.5# max possible 16\n",
    "p.transcription_rate_1 = 0 #10.0 / len(p.initial_state) max possible 50\n",
    "\n",
    "p.mrna_decay_rate = 0.23\n",
    "p.protein_decay_rate = 0.23\n",
    "p.delay = 0\n",
    "\n",
    "p.KD_k_on = 10\n",
    "p.KD_k_off = 100\n",
    "p.n = 10\n",
    "\n",
    "f, axs, X, tvec = plot_example_trace(p)"
   ]
  },
  {
   "cell_type": "code",
   "execution_count": 54,
   "id": "5c6a4e40",
   "metadata": {},
   "outputs": [],
   "source": [
    "\"\"\"k_on and k_off regulation, partial regulation\"\"\"\n",
    "p = Params()\n",
    "p.number_of_random_numbers_to_pregenerate = 1e6\n",
    "p.initial_state = np.array([1])#, 1, 1, 1])\n",
    "p.Tmax = 240#1000\n",
    "p.k_off0 = 0.0#0.2#0.2#2.2#0.025\n",
    "p.k_off1 = 0.2#0.2#0.0\n",
    "p.k_on0 = 0.05#0.1#0.1#2.2\n",
    "p.k_on1 = 0.1#0.1#2.5\n",
    "p.transcription_rate_0 = 10#10.0 / len(p.initial_state)\n",
    "\n",
    "p.translation_rate = 4.5#4.5# max possible 16\n",
    "p.transcription_rate_1 = 0 #10.0 / len(p.initial_state) max possible 50\n",
    "\n",
    "p.mrna_decay_rate = 0.23\n",
    "p.protein_decay_rate = 0.23\n",
    "\n",
    "p.delay = 0\n",
    "\n",
    "p.KD_k_on = 1\n",
    "p.KD_k_off = 100\n",
    "p.n = 10\n",
    "\n",
    "f, axs, X, tvec = plot_example_trace(p)"
   ]
  },
  {
   "cell_type": "markdown",
   "id": "27e7ff61-037e-4813-a41d-db6205ea6ad3",
   "metadata": {},
   "source": [
    "## Fig6E\n",
    "For the three models of burst auto-regulation and one set of parameters each, compute the predicted interval distributions. We use multiprocessing for speed, but this can be circumvented by simply calling func below with a longer Tmax. "
   ]
  },
  {
   "cell_type": "code",
   "execution_count": 41,
   "id": "5e0fe1c1-c306-4093-9155-b81d21326d6d",
   "metadata": {},
   "outputs": [],
   "source": [
    "\"\"\"fixed model params\"\"\"\n",
    "# w = 3.65\n",
    "# delta_t = 1.0\n",
    "# sigma = 0.2\n",
    "# Tmax = 1_000\n",
    "#n_bins = 40\n",
    "#bins = np.linspace(0, 60, n_bins)\n",
    "n_replicates = 200\n",
    "y_max = 0.15\n"
   ]
  },
  {
   "cell_type": "code",
   "execution_count": 18,
   "id": "c0bc3885-fcd0-43c9-9130-b06c2890e72f",
   "metadata": {},
   "outputs": [],
   "source": [
    "\"\"\"function for computing interval distributions\"\"\"\n",
    "def compute_burst_intervals(p):\n",
    "    X, tvec, p = simulate_multiple_copies(p)\n",
    "    burn_in_time = 0\n",
    "    X = X[burn_in_time:]\n",
    "    production_rate = p.transcription_rate_0 + p.transcription_rate_1 * hill_function(X[:,-1], p.KD_transcription_rate, p.n)\n",
    "    state = X[:, 0]\n",
    "\n",
    "    elongation_time = 0.29\n",
    "    delta_t = 1.0\n",
    "    w = elongation_time / delta_t\n",
    "    sigma = 0.2\n",
    "    relevant_production_rate = production_rate[np.where(tvec > burn_in_time)[0]]\n",
    "    m = np.mean(np.log10(relevant_production_rate[relevant_production_rate > 0]))\n",
    "    s = np.std(np.log10(relevant_production_rate[relevant_production_rate > 0]))\n",
    "    detection_threshold = 0.22 * 10 ** (m + s) * w\n",
    "\n",
    "    #detection_threshold = 0\n",
    "    ms2, uniform_times = sim_ms2(state, tvec, production_rate, w, delta_t, sigma, detection_threshold)\n",
    "    \n",
    "    inferred_state = binarize_trace(ms2, uniform_times, thresh=1e-1, window_size=3)\n",
    "    on_times, off_times = get_on_and_off_times(inferred_state, uniform_times)\n",
    "    active_durations  = get_burst_durations(on_times, off_times)\n",
    "    inactive_durations = get_burst_inactive_durations(on_times, off_times)\n",
    "    periods = np.diff(on_times)\n",
    "    \n",
    "    \"\"\"tmp plotting\"\"\"\n",
    "#     protein = X[:, -1]\n",
    "#     f, ax = plt.subplots()\n",
    "#     ax.plot(tvec, protein / np.max(protein), '-', linewidth=linewidth, color=colors['purple'], label='protein')\n",
    "#     ax.plot(uniform_times, ms2 / np.max(ms2), '-', linewidth=linewidth, color=colors['green'], label='MS2')\n",
    "#     ax.plot(uniform_times, inferred_state, '-', linewidth=linewidth, color='k', label='inferred state')\n",
    "    \n",
    "#     #plt.title('amplitude regulation', fontsize=fontsize)\n",
    "#     ax.set_ylabel('simulated \\nher1 activity \\n(fraction of max)', fontsize=fontsize)\n",
    "#     ax.set_xlabel('time (min)', fontsize=fontsize)\n",
    "#     ax.set_ylim([0,1.5])\n",
    "#     ax.set_xticks([0, 60, 120, 180])\n",
    "#     ax.legend(fontsize=fontsize, facecolor='none', loc=1, ncol=2)\n",
    "#     ax = style_axes(ax, fontsize=fontsize)\n",
    "\n",
    "#     f.tight_layout()\n",
    "\n",
    "\n",
    "    \n",
    "    \n",
    "    return active_durations, inactive_durations, periods\n",
    "\n",
    "def init_pool_processes():\n",
    "    np.random.seed()\n",
    "    \n",
    "\n",
    "\"\"\"more functions for computing interval distributions. we also need func and init_pool_processes from the cell above.\"\"\"\n",
    "def compute_distributions(traces, bins):\n",
    "    pulse_periods = []\n",
    "    pulse_durations =[]\n",
    "    pulse_quiets = []\n",
    "    for i, trace in enumerate(traces):\n",
    "        t_arr, inten_arr, nucleus = trace\n",
    "        t_arr = non_blank_timepoints[t_arr.astype('int')]\n",
    "        state = binarize_trace(inten_arr, t_arr, thresh=1.0, window_size=5)\n",
    "        on_times, off_times = get_on_and_off_times(state, t_arr)\n",
    "        if len(on_times) > 2:\n",
    "            these_pulse_periods = np.diff(on_times)\n",
    "            these_quiets = get_burst_inactive_durations(on_times, off_times)\n",
    "            pulse_periods.extend([p for p in these_pulse_periods])\n",
    "            these_pulse_durations = get_burst_durations(on_times, off_times)\n",
    "            pulse_durations.extend([p for p in these_pulse_durations])\n",
    "            pulse_quiets.extend([p for p in these_quiets])\n",
    "            \n",
    "    counts, bins = np.histogram(pulse_durations, bins=bins)\n",
    "    prob_dens_durations = counts / np.sum(counts) / np.diff(bins)\n",
    "    \n",
    "    counts, bins = np.histogram(pulse_quiets, bins=bins)\n",
    "    prob_dens_quiets = counts / np.sum(counts) / np.diff(bins)\n",
    "            \n",
    "    return prob_dens_durations, prob_dens_quiets\n",
    "\n",
    "\n",
    "def bootstrap_distributions(traces, bins, n_bootstraps):\n",
    "    duration_dist_arr = np.zeros((n_bootstraps, len(bins) - 1))\n",
    "    quiet_dist_arr = np.zeros((n_bootstraps, len(bins) - 1))\n",
    "    for i in range(int(n_bootstraps)):\n",
    "        these_ids = np.random.randint(0, len(traces), len(traces), dtype='int')\n",
    "        these_traces = [traces[j] for j in these_ids]\n",
    "        \n",
    "        duration_dist_arr[i], quiet_dist_arr[i] = compute_distributions(these_traces, bins)\n",
    "\n",
    "    return duration_dist_arr, quiet_dist_arr \n",
    "\n",
    "\n",
    "def bootstrap_simulated_distributions(intervals, bins, n_bootstraps):\n",
    "    interval_dist_arr = np.zeros((n_bootstraps, len(bins) - 1))\n",
    "    for i in range(int(n_bootstraps)):\n",
    "        these_ids = np.random.randint(0, len(intervals), len(intervals), dtype='int')\n",
    "        these_intervals = [intervals[j] for j in these_ids]\n",
    "        \n",
    "        counts, bins = np.histogram(these_intervals, bins=bins)\n",
    "        interval_dist_arr[i] = counts / np.sum(counts) / np.diff(bins)\n",
    "        \n",
    "    return interval_dist_arr "
   ]
  },
  {
   "cell_type": "markdown",
   "id": "b3570fbc",
   "metadata": {},
   "source": [
    "## Run sims"
   ]
  },
  {
   "cell_type": "code",
   "execution_count": 42,
   "id": "5d539c15",
   "metadata": {},
   "outputs": [],
   "source": [
    "from copy import deepcopy"
   ]
  },
  {
   "cell_type": "code",
   "execution_count": 43,
   "id": "398ec59f",
   "metadata": {},
   "outputs": [],
   "source": [
    "\"\"\"amplitude regulation, with some bursts\"\"\"\n",
    "save = True\n",
    "if run_sim:\n",
    "    p = Params()\n",
    "    p.initial_state = np.array([1])\n",
    "    p.Tmax = 240\n",
    "    p.k_off0 = 0.4#0*0.08#0#0.3#0.025\n",
    "    p.k_off1 = 0.0#0.0\n",
    "    p.k_on0 = 4#0*0.4#1000#0.1#.0\n",
    "    p.k_on1 = 0#2.5\n",
    "    p.transcription_rate_0 = 0\n",
    "\n",
    "    p.translation_rate = 4.5\n",
    "    p.transcription_rate_1 = 10.0 / len(p.initial_state)\n",
    "\n",
    "    p.mrna_decay_rate = 0.23\n",
    "    p.protein_decay_rate = 0.23\n",
    "\n",
    "    p.delay = 7.5\n",
    "\n",
    "    p.KD_transcription_rate = 100#25#75\n",
    "    p.n = 3#2.2#3\n",
    "    p_arr = [p] * n_replicates #* 4\n",
    "    decay_scale = 0*0.23 / 3\n",
    "    for i in range(len(p_arr)):\n",
    "        tmp_p = deepcopy(p_arr[i])\n",
    "        tmp_p.protein_decay_rate = np.clip(np.random.normal(loc=0.23, scale=decay_scale), a_min=0, a_max=np.inf)\n",
    "        p_arr[i] = tmp_p\n",
    "\n",
    "    with Pool(processes=15, initializer=init_pool_processes) as pool:\n",
    "        res = pool.map(compute_burst_intervals, p_arr)\n",
    "\n",
    "    active_durations = [item for sublist in res for item in sublist[0]]\n",
    "    inactive_durations = [item for sublist in res for item in sublist[1]]\n",
    "    periods = [item for sublist in res for item in sublist[2]]\n",
    "\n",
    "if save:\n",
    "    with open(r'/home/brandon/Documents/Code/zebrafish-ms2-paper/data/delay_sims/amp_reg_bursts_intervals.pkl', 'wb') as f:\n",
    "        pickle.dump([active_durations, inactive_durations, periods], f)\n",
    "\n",
    "\n",
    "\n",
    "\n"
   ]
  },
  {
   "cell_type": "code",
   "execution_count": 44,
   "id": "dedb106c-a45f-4de8-b08f-fc4eb220e043",
   "metadata": {},
   "outputs": [],
   "source": [
    "\"\"\"amplitude regulation, with no bursts\"\"\"\n",
    "save = True\n",
    "if run_sim:\n",
    "    p = Params()\n",
    "    p.initial_state = np.array([1])\n",
    "    p.Tmax = 240\n",
    "    p.k_off0 = 0.0\n",
    "    p.k_off1 = 0.0\n",
    "    p.k_on0 = 0.0\n",
    "    p.k_on1 = 0.0\n",
    "    p.transcription_rate_0 = 0\n",
    "\n",
    "    p.translation_rate = 4.5\n",
    "    p.transcription_rate_1 = 10.0 / len(p.initial_state)\n",
    "\n",
    "    p.mrna_decay_rate = 0.23\n",
    "    p.protein_decay_rate = 0.23\n",
    "\n",
    "    p.delay = 7.5\n",
    "\n",
    "    p.KD_transcription_rate = 100#25#75\n",
    "    p.n = 3\n",
    "    p_arr = [p] * n_replicates * 4\n",
    "    decay_scale = 0.23 / 3\n",
    "    for i in range(len(p_arr)):\n",
    "        tmp_p = deepcopy(p_arr[i])\n",
    "        tmp_p.protein_decay_rate = np.clip(np.random.normal(loc=0.23, scale=decay_scale), a_min=0, a_max=np.inf)\n",
    "        p_arr[i] = tmp_p\n",
    "\n",
    "    with Pool(processes=15, initializer=init_pool_processes) as pool:\n",
    "        res = pool.map(compute_burst_intervals, p_arr)\n",
    "\n",
    "    active_durations = [item for sublist in res for item in sublist[0]]\n",
    "    inactive_durations = [item for sublist in res for item in sublist[1]]\n",
    "    periods = [item for sublist in res for item in sublist[2]]\n",
    "\n",
    "if save:\n",
    "    with open(r'/home/brandon/Documents/Code/zebrafish-ms2-paper/data/delay_sims/amp_reg_intervals.pkl', 'wb') as f:\n",
    "        pickle.dump([active_durations, inactive_durations, periods], f)\n",
    "\n",
    "\n",
    "\n",
    "\n"
   ]
  },
  {
   "cell_type": "code",
   "execution_count": 45,
   "id": "8e1513f7",
   "metadata": {},
   "outputs": [],
   "source": [
    "\"\"\"frequency regulation\"\"\"\n",
    "save = True\n",
    "if run_sim:\n",
    "    p = Params()\n",
    "    p.initial_state = np.array([1])#, 1, 1, 1])\n",
    "    p.Tmax = 240#1000\n",
    "    p.k_off0 = 0.08#0.2#2.2#0.025\n",
    "    p.k_off1 = 0.0#0.0\n",
    "    p.k_on0 = 0.0#0.1#2.2\n",
    "    p.k_on1 = 0.5#2.5\n",
    "    p.transcription_rate_0 = 10#10.0 / len(p.initial_state)\n",
    "\n",
    "    p.translation_rate = 4.5#4.5# max possible 16\n",
    "    p.transcription_rate_1 = 0 #10.0 / len(p.initial_state) max possible 50\n",
    "\n",
    "    p.mrna_decay_rate = 0.23\n",
    "    p.protein_decay_rate = 0.23\n",
    "\n",
    "    p.delay = 0.0\n",
    "\n",
    "    p.KD_k_on = 80#10\n",
    "    p.n = 3\n",
    "\n",
    "    p_arr = [p] * n_replicates\n",
    "    decay_scale = 0*0.23 / 3\n",
    "    for i in range(len(p_arr)):\n",
    "        tmp_p = deepcopy(p_arr[i])\n",
    "        tmp_p.protein_decay_rate = np.clip(np.random.normal(loc=0.23, scale=decay_scale), a_min=0, a_max=np.inf)\n",
    "        p_arr[i] = tmp_p\n",
    "        \n",
    "    with Pool(processes=15, initializer=init_pool_processes) as pool:\n",
    "        res = pool.map(compute_burst_intervals, p_arr)\n",
    "\n",
    "    active_durations = [item for sublist in res for item in sublist[0]]\n",
    "    inactive_durations = [item for sublist in res for item in sublist[1]]\n",
    "    periods = [item for sublist in res for item in sublist[2]]\n",
    "\n",
    "if save:\n",
    "    with open(r'/home/brandon/Documents/Code/zebrafish-ms2-paper/data/delay_sims/freq_reg_intervals.pkl', 'wb') as f:\n",
    "        pickle.dump([active_durations, inactive_durations, periods], f)\n",
    "\n"
   ]
  },
  {
   "cell_type": "code",
   "execution_count": 46,
   "id": "26957a41",
   "metadata": {},
   "outputs": [],
   "source": [
    "\"\"\"duration regulation\"\"\"\n",
    "save = True\n",
    "if run_sim:\n",
    "    p = Params()\n",
    "    p.initial_state = np.array([1])#, 1, 1, 1])\n",
    "    p.Tmax = 240#1000\n",
    "    p.k_off0 = 0.0#0.2#2.2#0.025\n",
    "    p.k_off1 = 0.4#0.0\n",
    "    p.k_on0 = 0.055#0.1#2.2\n",
    "    p.k_on1 = 0.0#2.5\n",
    "    p.transcription_rate_0 = 10#10.0 / len(p.initial_state)\n",
    "\n",
    "    p.translation_rate = 4.5#4.5# max possible 16\n",
    "    p.transcription_rate_1 = 0 #10.0 / len(p.initial_state) max possible 50\n",
    "\n",
    "    p.mrna_decay_rate = 0.23\n",
    "    p.protein_decay_rate = 0.23\n",
    "    p.delay = 0\n",
    "\n",
    "    p.KD_k_on = 10\n",
    "    p.KD_k_off = 1100#1500#1100#800\n",
    "    p.n = 3\n",
    "\n",
    "    p_arr = [p] * n_replicates\n",
    "    decay_scale = 0*0.23 / 3\n",
    "    for i in range(len(p_arr)):\n",
    "        tmp_p = deepcopy(p_arr[i])\n",
    "        tmp_p.protein_decay_rate = np.clip(np.random.normal(loc=0.23, scale=decay_scale), a_min=0, a_max=np.inf)\n",
    "        p_arr[i] = tmp_p\n",
    "        \n",
    "    with Pool(processes=15, initializer=init_pool_processes) as pool:\n",
    "        res = pool.map(compute_burst_intervals, p_arr)\n",
    "\n",
    "    active_durations = [item for sublist in res for item in sublist[0]]\n",
    "    inactive_durations = [item for sublist in res for item in sublist[1]]\n",
    "    periods = [item for sublist in res for item in sublist[2]]\n",
    "\n",
    "if save:\n",
    "    with open(r'/home/brandon/Documents/Code/zebrafish-ms2-paper/data/delay_sims/dur_reg_intervals.pkl', 'wb') as f:\n",
    "        pickle.dump([active_durations, inactive_durations, periods], f)\n",
    "\n"
   ]
  },
  {
   "cell_type": "code",
   "execution_count": 47,
   "id": "6671824b",
   "metadata": {},
   "outputs": [],
   "source": [
    "\"\"\"freq + duration regulation\"\"\"\n",
    "save = True\n",
    "if run_sim:\n",
    "    p = Params()\n",
    "    p.number_of_random_numbers_to_pregenerate = 1e6\n",
    "    p.initial_state = np.array([1])#, 1, 1, 1])\n",
    "    p.Tmax = 240#1000\n",
    "    p.k_off0 = 0.0#0.2#0.2#2.2#0.025\n",
    "    p.k_off1 = 0.4#0.2#0.0\n",
    "    p.k_on0 = 0.0#0.1#0.1#2.2\n",
    "    p.k_on1 = 0.5#0.1#2.5\n",
    "    p.transcription_rate_0 = 10#10.0 / len(p.initial_state)\n",
    "\n",
    "    p.translation_rate = 4.5#4.5# max possible 16\n",
    "    p.transcription_rate_1 = 0 #10.0 / len(p.initial_state) max possible 50\n",
    "\n",
    "    p.mrna_decay_rate = 0.23\n",
    "    p.protein_decay_rate = 0.23\n",
    "    p.delay = 0\n",
    "\n",
    "    p.KD_k_on = 80\n",
    "    p.KD_k_off = 1300#1500\n",
    "    p.n = 3\n",
    "    p_arr = [p] * n_replicates\n",
    "    decay_scale = 0*0.23 / 3\n",
    "    for i in range(len(p_arr)):\n",
    "        tmp_p = deepcopy(p_arr[i])\n",
    "        tmp_p.protein_decay_rate = np.clip(np.random.normal(loc=0.23, scale=decay_scale), a_min=0, a_max=np.inf)\n",
    "        p_arr[i] = tmp_p\n",
    "        \n",
    "    with Pool(processes=15, initializer=init_pool_processes) as pool:\n",
    "        res = pool.map(compute_burst_intervals, p_arr)\n",
    "\n",
    "    active_durations = [item for sublist in res for item in sublist[0]]\n",
    "    inactive_durations = [item for sublist in res for item in sublist[1]]\n",
    "    periods = [item for sublist in res for item in sublist[2]]\n",
    "\n",
    "if save:\n",
    "    with open(r'/home/brandon/Documents/Code/zebrafish-ms2-paper/data/delay_sims/freq_and_dur_reg_intervals.pkl', 'wb') as f:\n",
    "        pickle.dump([active_durations, inactive_durations, periods], f)\n",
    "\n"
   ]
  },
  {
   "cell_type": "code",
   "execution_count": 100,
   "id": "313f1885",
   "metadata": {},
   "outputs": [],
   "source": [
    "def plot_interval_dists(intervals, \n",
    "                        bins,\n",
    "                        ax=None,\n",
    "                        xlabel=None, \n",
    "                        ylabel=None, \n",
    "                        xticks=(0, 15, 30), \n",
    "                        yticks=(0, 0.05, 0.10),\n",
    "                        n_bootstraps=100,\n",
    "                        title=None,\n",
    "                        color='k',\n",
    "                       ):\n",
    "    if ax is None:\n",
    "        f, ax = plt.subplots()\n",
    "    counts, bins = np.histogram(intervals, bins=bins)\n",
    "    prob_dens = counts / np.sum(counts) / np.diff(bins)\n",
    "    interval_dist_arr = bootstrap_simulated_distributions(intervals, bins, n_bootstraps=n_bootstraps)\n",
    "    prob_dens_uncertainty = np.std(interval_dist_arr, axis=0)\n",
    "    #ax.plot(bins[:-1], prob_dens, 'ko', markersize=markersize, markerfacecolor=colors['green'], alpha=0.75, label='data')\n",
    "#     ax.errorbar(bins[:-1], prob_dens, prob_dens_uncertainty, \n",
    "#                 color=colors['green'], linewidth=linewidth, \n",
    "#                 elinewidth=linewidth, ecolor=colors['green'], \n",
    "#                 capsize=linewidth, capthick=linewidth,\n",
    "#                 marker='o', markersize=markersize, \n",
    "#                 markerfacecolor='none',\n",
    "#                 markeredgecolor=colors['green'],\n",
    "#                    markeredgewidth=linewidth)\n",
    "    ax.fill_between(bins[:-1], prob_dens - prob_dens_uncertainty, prob_dens + prob_dens_uncertainty,\n",
    "                   facecolor=color, alpha=0.5)\n",
    "    ax.plot(bins[:-1], prob_dens, '-', linewidth=linewidth, color=color)\n",
    "    \n",
    "    if xlabel is None:\n",
    "        xtick_labels = []\n",
    "    else:\n",
    "        xtick_labels = xticks\n",
    "    if ylabel is None:\n",
    "        ytick_labels = []\n",
    "    else:\n",
    "        ytick_labels = yticks\n",
    "    ax.set_xticks(xticks, labels=xtick_labels)\n",
    "    ax.set_xlabel(xlabel, fontsize=fontsize)\n",
    "    ax.set_yticks(yticks, labels=ytick_labels)\n",
    "    ax.set_ylabel(ylabel, fontsize=fontsize)\n",
    "    if title is not None:\n",
    "        ax.set_title(title, fontsize=fontsize, fontweight='bold')\n",
    "        \n",
    "    ax = style_axes(ax, fontsize=fontsize)\n",
    "    \n",
    "    return ax, prob_dens\n",
    "\n",
    "def load_intervals(file_name):\n",
    "    with open(file_name, 'rb') as f:\n",
    "        active_intervals, inactive_intervals, periods = pickle.load(f)\n",
    "    \n",
    "    return active_intervals, inactive_intervals, periods\n",
    "        \n",
    "def plot_simulated_dists(axd, keys, sim_dir, files_to_load, counter=0, titles=None, xlabel=None, ylabel=None, colors=None):\n",
    "    for i in range(len(files_to_load)):\n",
    "        if titles is not None:\n",
    "            title = titles[i]\n",
    "        else:\n",
    "            title= None\n",
    "                   \n",
    "        active_intervals, inactive_intervals, _ = load_intervals(sim_dir + '/' + files_to_load[i])\n",
    "        ax = axd[keys[counter]]\n",
    "        if colors is not None:\n",
    "            color = colors[counter]\n",
    "        else:\n",
    "            color = 'k'\n",
    "        ax, prob_dens = plot_interval_dists(active_intervals, bins, ax, xlabel=xlabel, ylabel=ylabel, title=title, color=color)\n",
    "        ax.set_ylim([0, 0.12])\n",
    "        ax.set_xlim([0, 40])\n",
    "\n",
    "        counter += 1\n",
    "        \n",
    "        ax = axd[keys[counter]]\n",
    "        if colors is not None:\n",
    "            color = colors[counter]\n",
    "        else:\n",
    "            color = 'k'\n",
    "        ax, prob_dens = plot_interval_dists(inactive_intervals, bins, ax, xlabel=xlabel, ylabel=ylabel, title=title, color=color)\n",
    "        ax.set_xlim([0, 40])\n",
    "        ax.set_ylim([0, 0.12])\n",
    "\n",
    "        counter += 1\n",
    "    \n",
    "    return counter"
   ]
  },
  {
   "cell_type": "code",
   "execution_count": 49,
   "id": "d24c093e",
   "metadata": {},
   "outputs": [],
   "source": [
    "#plt.close('all')"
   ]
  },
  {
   "cell_type": "code",
   "execution_count": 103,
   "id": "d43463c8",
   "metadata": {},
   "outputs": [],
   "source": [
    "\"\"\"plot grouped by active vs inactive interval\"\"\"\n",
    "f, axd = plt.subplot_mosaic([['a', 'b', 'c', 'd', 'e'], \n",
    "                             ['f', 'g', 'h', 'i', 'j']], figsize=(6.5, 4))\n",
    "keys = ['a', 'f', 'b', 'g', 'c', 'h','d', 'i', 'e', 'j']\n",
    "titles = ['amplitude \\nregulation', 'frequency \\nregulation', 'duration \\nregulation', 'frequency + duration \\nregulation', 'data']\n",
    "sim_dir = r'/home/brandon/Documents/Code/zebrafish-ms2-paper/data/delay_sims'\n",
    "files_to_load = ['amp_reg_intervals.pkl', 'freq_reg_intervals.pkl', 'dur_reg_intervals.pkl', 'freq_and_dur_reg_intervals.pkl']\n",
    "sim_colors = (colors['blue'], colors['purple'],) * 5\n",
    "counter = 0\n",
    "xticks = [0, 30, 60]\n",
    "\n",
    "counter = plot_simulated_dists(axd, keys, sim_dir, files_to_load, counter=0, xlabel='time (min)', titles=titles, colors=sim_colors)\n",
    "with open(r'/home/brandon/Documents/Code/zebrafish-ms2-paper/data/manual_data_intervals/manual_data_intervals.pkl', 'rb') as f:\n",
    "    active_intervals, inactive_intervals, periods = pickle.load(f)\n",
    "\n",
    "data_bins = np.linspace(0, 35, 10)\n",
    "ax = axd[keys[counter]]\n",
    "ax, prob_dens = plot_interval_dists(active_intervals, data_bins, ax, color=colors['green'], xlabel='time (min)')\n",
    "ax.set_xlabel('time (min)', fontsize=fontsize)\n",
    "ax.set_xlim([0, 40])\n",
    "ax.set_ylim([0, 0.12])\n",
    "ax.set_title('experimental \\ndata', fontsize=fontsize)\n",
    "counter += 1\n",
    "\n",
    "ax = axd[keys[counter]]\n",
    "ax, prob_dens = plot_interval_dists(inactive_intervals, data_bins, ax, color=colors['green'], xlabel='time (min)')\n",
    "ax.set_xlabel('time (min)', fontsize=fontsize)\n",
    "ax.set_xlim([0, 40])\n",
    "ax.set_ylim([0, 0.12])\n",
    "ax.set_title('experimental \\ndata', fontsize=fontsize)\n",
    "\n",
    "axd['a'].set_ylabel('probability \\ndensity (1/min)', fontsize=fontsize)\n",
    "axd['a'].set_yticks((0, 0.05, 0.10), labels=(0, 0.05, 0.10))\n",
    "\n",
    "axd['f'].set_ylabel('probability \\ndensity (1/min)', fontsize=fontsize)\n",
    "axd['f'].set_yticks((0, 0.05, 0.10), labels=(0, 0.05, 0.10))\n",
    "\n",
    "plt.gcf().tight_layout(w_pad=-0.15)"
   ]
  },
  {
   "cell_type": "code",
   "execution_count": 104,
   "id": "acb132f6",
   "metadata": {},
   "outputs": [],
   "source": [
    "plt.savefig(r'/media/brandon/Data1/Somitogenesis/Dorado/interval_dists_delay_sims_colors.pdf')"
   ]
  },
  {
   "cell_type": "markdown",
   "id": "3afd3327",
   "metadata": {},
   "source": [
    "## Fit mean and std. dev of interval distributions"
   ]
  },
  {
   "cell_type": "code",
   "execution_count": 51,
   "id": "5140caf8",
   "metadata": {},
   "outputs": [],
   "source": [
    "def compute_loss_function(p, n_replicates=15, mode='both'):\n",
    "    p_arr = [p] * n_replicates\n",
    "\n",
    "    with Pool(processes=15, initializer=init_pool_processes) as pool:\n",
    "        res = pool.map(compute_burst_intervals, p_arr)\n",
    "\n",
    "    active_durations = [item for sublist in res for item in sublist[0]]\n",
    "    inactive_durations = [item for sublist in res for item in sublist[1]]\n",
    "    \n",
    "    active_loss = ((np.mean(active_durations) - data_mean_active) ** 2 \n",
    "                + (np.std(active_durations) - data_std_active) ** 2\n",
    "                  )\n",
    "    \n",
    "    inactive_loss = ((np.mean(inactive_durations) - data_mean_inactive) ** 2\n",
    "                    + (np.std(inactive_durations) - data_std_inactive) ** 2\n",
    "                    )\n",
    "#     \"\"\"try just fitting ratios\"\"\"\n",
    "#     active_loss = ((np.mean(active_durations) / np.std(active_durations) - data_mean_active / data_std_active) ** 2)\n",
    "    \n",
    "#     inactive_loss = ((np.mean(inactive_durations) / np.std(inactive_durations) - data_mean_inactive / data_std_inactive) ** 2)\n",
    "    \n",
    "    if mode == 'both':\n",
    "        loss = active_loss + inactive_loss\n",
    "    elif mode == 'active':\n",
    "        loss = active_loss\n",
    "    elif mode == 'inactive':\n",
    "        loss = inactive_loss\n",
    "    else:\n",
    "        raise ValueError\n",
    "    \n",
    "    return loss"
   ]
  },
  {
   "cell_type": "code",
   "execution_count": 52,
   "id": "4364f08c",
   "metadata": {},
   "outputs": [],
   "source": [
    "with open(r'/home/brandon/Documents/Code/zebrafish-ms2-paper/data/manual_data_intervals/manual_data_intervals.pkl', 'rb') as f:\n",
    "    active_intervals, inactive_intervals, periods = pickle.load(f)\n",
    "\n",
    "data_mean_active = np.mean(active_intervals)\n",
    "data_std_active = np.std(active_intervals)\n",
    "data_mean_inactive = np.mean(inactive_intervals)\n",
    "data_std_inactive = np.std(inactive_intervals)\n"
   ]
  },
  {
   "cell_type": "code",
   "execution_count": 53,
   "id": "56b2ccd0",
   "metadata": {},
   "outputs": [
    {
     "data": {
      "text/plain": [
       "12.71830985915493"
      ]
     },
     "execution_count": 53,
     "metadata": {},
     "output_type": "execute_result"
    }
   ],
   "source": [
    "data_mean_active"
   ]
  },
  {
   "cell_type": "code",
   "execution_count": 54,
   "id": "5f9a3b64",
   "metadata": {},
   "outputs": [
    {
     "data": {
      "text/plain": [
       "2.2209200924025367"
      ]
     },
     "execution_count": 54,
     "metadata": {},
     "output_type": "execute_result"
    }
   ],
   "source": [
    "data_mean_active / data_std_active"
   ]
  },
  {
   "cell_type": "code",
   "execution_count": 55,
   "id": "f54fd27b",
   "metadata": {},
   "outputs": [],
   "source": [
    "# \"\"\"fit amplitude\"\"\"\n",
    "# hill_coeff_arr = np.linspace(1, 10, 6)\n",
    "# KD_arr = np.logspace(0, np.log10(300), 5)\n",
    "# loss_arr_amp = np.zeros((len(hill_coeff_arr), len(KD_arr)))\n",
    "\n",
    "# p = Params()\n",
    "# p.initial_state = np.array([1])\n",
    "# p.Tmax = 240\n",
    "# p.k_off0 = 0#0.3#0.025\n",
    "# p.k_off1 = 0.0#0.0\n",
    "# p.k_on0 = 1000#0.1#.0\n",
    "# p.k_on1 = 0#2.5\n",
    "# p.transcription_rate_0 = 0\n",
    "\n",
    "# p.translation_rate = 4.5\n",
    "# p.transcription_rate_1 = 10.0 / len(p.initial_state)\n",
    "\n",
    "# p.mrna_decay_rate = 0.23\n",
    "# p.protein_decay_rate = 0.23\n",
    "\n",
    "# p.delay = 6.0\n",
    "\n",
    "# for i in range(len(hill_coeff_arr)):\n",
    "#     print(f'{i+1} of {len(hill_coeff_arr)}')\n",
    "#     for j in range(len(KD_arr)):\n",
    "#         p.KD = KD_arr[j]\n",
    "#         p.n = hill_coeff_arr[i]\n",
    "#         loss_arr_amp[i, j] = compute_loss_function(p)"
   ]
  },
  {
   "cell_type": "code",
   "execution_count": 56,
   "id": "6562473b",
   "metadata": {},
   "outputs": [],
   "source": [
    "#loss_arr_amp = loss_arr"
   ]
  },
  {
   "cell_type": "code",
   "execution_count": 57,
   "id": "9a3ca0df",
   "metadata": {},
   "outputs": [],
   "source": [
    "# plt.figure()\n",
    "# plt.contourf(np.log10(KD_arr), hill_coeff_arr, loss_arr_amp)\n",
    "# plt.xlabel('log10(KD)', fontsize=fontsize)\n",
    "# plt.ylabel('hill coefficient', fontsize=fontsize)\n",
    "# plt.colorbar()"
   ]
  },
  {
   "cell_type": "code",
   "execution_count": 58,
   "id": "75f16cc9",
   "metadata": {},
   "outputs": [],
   "source": [
    "# \"\"\"fit duration\"\"\"\n",
    "# hill_coeff_arr = np.linspace(2, 24, 6)\n",
    "# KD_arr = np.logspace(0, np.log10(1000), 5)\n",
    "# loss_arr_dur = np.zeros((len(hill_coeff_arr), len(KD_arr)))\n",
    "\n",
    "# p = Params()\n",
    "# p.initial_state = np.array([1])#, 1, 1, 1])\n",
    "# p.Tmax = 240#1000\n",
    "# p.k_off0 = 0.0#0.2#2.2#0.025\n",
    "# p.k_off1 = 0.08#0.0\n",
    "# p.k_on0 = 0.05#0.1#2.2\n",
    "# p.k_on1 = 0.0#2.5\n",
    "# p.transcription_rate_0 = 10#10.0 / len(p.initial_state)\n",
    "\n",
    "# p.translation_rate = 4.5#4.5# max possible 16\n",
    "# p.transcription_rate_1 = 0 #10.0 / len(p.initial_state) max possible 50\n",
    "\n",
    "# p.mrna_decay_rate = 0.23\n",
    "# p.protein_decay_rate = 0.23\n",
    "# p.delay = 0\n",
    "\n",
    "\n",
    "# for i in range(len(hill_coeff_arr)):\n",
    "#     print(f'{i+1} of {len(hill_coeff_arr)}')\n",
    "#     for j in range(len(KD_arr)):\n",
    "#         p.KD = KD_arr[j]\n",
    "#         p.n = hill_coeff_arr[i]\n",
    "#         loss_arr_dur[i, j] = compute_loss_function(p, n_replicates=15, mode='active')"
   ]
  },
  {
   "cell_type": "code",
   "execution_count": 59,
   "id": "9a434697",
   "metadata": {},
   "outputs": [],
   "source": [
    "# plt.figure()\n",
    "# plt.contourf(np.log10(KD_arr), hill_coeff_arr, loss_arr_dur)\n",
    "# plt.xlabel('log10(KD)', fontsize=fontsize)\n",
    "# plt.ylabel('hill coefficient', fontsize=fontsize)\n",
    "# plt.colorbar()"
   ]
  },
  {
   "cell_type": "code",
   "execution_count": 60,
   "id": "a3b00869",
   "metadata": {},
   "outputs": [],
   "source": [
    "# np.where(loss_arr_dur == np.min(loss_arr_dur))\n",
    "# print(f'n={hill_coeff_arr[np.where(loss_arr_dur == np.min(loss_arr_dur))[0][0]]}')\n",
    "# print(f'KD={KD_arr[np.where(loss_arr_dur == np.min(loss_arr_dur))[1][0]]}')"
   ]
  },
  {
   "cell_type": "markdown",
   "id": "47c855e5",
   "metadata": {},
   "source": [
    "## plot example burst schematic"
   ]
  },
  {
   "cell_type": "code",
   "execution_count": 81,
   "id": "da590c7f",
   "metadata": {},
   "outputs": [],
   "source": [
    "\"\"\"amplitude regulation, no bursts\"\"\"\n",
    "p = Params()\n",
    "p.initial_state = np.array([1])\n",
    "p.Tmax = 120\n",
    "p.k_off0 = 0.1#0.3#0.025\n",
    "p.k_off1 = 0.0#0.0\n",
    "p.k_on0 = 0.05#0.1#.0\n",
    "p.k_on1 = 0#2.5\n",
    "p.transcription_rate_0 = 0\n",
    "\n",
    "p.translation_rate = 4.5\n",
    "p.transcription_rate_1 = 10.0 / len(p.initial_state)\n",
    "\n",
    "p.mrna_decay_rate = 0.23\n",
    "p.protein_decay_rate = 0.23\n",
    "\n",
    "p.delay = 6.0\n",
    "\n",
    "p.KD_transcription_rate = 400\n",
    "p.n = 4\n",
    "\n",
    "f, axs, X, tvec = plot_example_trace(p)"
   ]
  },
  {
   "cell_type": "code",
   "execution_count": 95,
   "id": "c300aaa9",
   "metadata": {},
   "outputs": [],
   "source": [
    "t_arr = np.linspace(0, 100)\n",
    "state = np.zeros_like(t_arr)\n",
    "state[np.array(t_arr > 25) * np.array(t_arr < 50)] = 1\n",
    "state[np.array(t_arr > 75) * np.array(t_arr < 90)] = 1\n",
    "plt.figure(figsize=(2.5, 1.5))\n",
    "plt.plot(t_arr, state, 'k-', linewidth=linewidth)\n",
    "plt.xlabel('time (min)', fontsize=fontsize)\n",
    "plt.ylabel('promoter \\nstate', fontsize=fontsize)\n",
    "plt.yticks([0, 1], labels=[])\n",
    "ax = style_axes(plt.gca(), fontsize=fontsize)\n",
    "plt.tight_layout()"
   ]
  },
  {
   "cell_type": "code",
   "execution_count": 96,
   "id": "62cff88a",
   "metadata": {},
   "outputs": [],
   "source": [
    "plt.savefig(r'/media/brandon/Data1/Somitogenesis/Dorado/burst_schematic.pdf')"
   ]
  },
  {
   "cell_type": "code",
   "execution_count": null,
   "id": "4a9cfa42",
   "metadata": {},
   "outputs": [],
   "source": []
  }
 ],
 "metadata": {
  "kernelspec": {
   "display_name": "Python (zebrafish-ms2-paper)",
   "language": "python",
   "name": "zebrafish-ms2-paper"
  },
  "language_info": {
   "codemirror_mode": {
    "name": "ipython",
    "version": 3
   },
   "file_extension": ".py",
   "mimetype": "text/x-python",
   "name": "python",
   "nbconvert_exporter": "python",
   "pygments_lexer": "ipython3",
   "version": "3.12.0"
  }
 },
 "nbformat": 4,
 "nbformat_minor": 5
}
