{
 "cells": [
  {
   "cell_type": "code",
   "execution_count": 10,
   "id": "5c1b827d",
   "metadata": {},
   "outputs": [],
   "source": [
    "import numpy as np\n",
    "import matplotlib.pyplot as plt\n",
    "from matplotlib import rc\n",
    "from zebrafish_ms2_paper.trace_analysis import extract_traces, binarize_trace, get_on_and_off_times, get_burst_durations, get_burst_inactive_durations, enforce_1spot_per_nucleus\n",
    "from zebrafish_ms2_paper.ap_analysis import (bin_aps, get_ap_for_somites, \n",
    "                        filter_spots_by_distance_from_somite, \n",
    "                        filter_spots_by_perp_distance_from_ap_axis, \n",
    "                        get_ap_for_spots,\n",
    "                        get_microns_between_ap_bins,\n",
    "                        get_ap_um,\n",
    "                        bin_aps_um)\n",
    "from zebrafish_ms2_paper.utils import pboc_rc, style_axes, colors, fontsize\n",
    "import pandas as pd\n",
    "import pickle\n",
    "from matplotlib import rcParams"
   ]
  },
  {
   "cell_type": "code",
   "execution_count": 2,
   "id": "ce5c6255",
   "metadata": {},
   "outputs": [],
   "source": [
    "%matplotlib qt"
   ]
  },
  {
   "cell_type": "code",
   "execution_count": 30,
   "id": "e0d4b6c8",
   "metadata": {},
   "outputs": [],
   "source": [
    "rcParams.update(pboc_rc)"
   ]
  },
  {
   "cell_type": "code",
   "execution_count": 91,
   "id": "b14457c8",
   "metadata": {},
   "outputs": [],
   "source": [
    "fontsize = 11"
   ]
  },
  {
   "cell_type": "code",
   "execution_count": 3,
   "id": "2bfd1e64",
   "metadata": {},
   "outputs": [],
   "source": [
    "\"\"\"specify the path to the folder of Supplemental Data Files\"\"\"\n",
    "# REPLACE THIS WITH YOUR PATH\n",
    "datadir = r'/home/brandon/Downloads/SupplementalDataFiles'\n",
    "\n",
    "# define paths to particular files\n",
    "path_to_spots = datadir + '/Supplemental_Data_File_2-Spots_Curated.pkl'\n",
    "path_to_non_blank_timepoints = datadir + '/Supplemental_Data_File_3-Non-Blank_Time_Points.pkl'\n",
    "path_to_ap = datadir + '/Supplemental_Data_File_6-Anterior-Posterior_Axis.pkl'\n"
   ]
  },
  {
   "cell_type": "code",
   "execution_count": 13,
   "id": "4bf36b68",
   "metadata": {},
   "outputs": [],
   "source": [
    "\"\"\"load all of the various datasets you need\"\"\"\n",
    "df = pd.read_pickle(path_to_spots)\n",
    "\n",
    "# coordinates of the ap axis\n",
    "with open(path_to_ap, 'rb') as f:\n",
    "    ap = pickle.load(f)\n",
    "\n",
    "# correct time stamps\n",
    "with open(path_to_non_blank_timepoints,'rb') as fp:\n",
    "    non_blank_timepoints = pickle.load(fp)\n",
    "\n",
    "t_arr = np.arange(0, 160)\n",
    "\n",
    "# assign ap positions for all spots\n",
    "df = get_ap_for_spots(df, ap)"
   ]
  },
  {
   "cell_type": "code",
   "execution_count": 27,
   "id": "f25b7351",
   "metadata": {},
   "outputs": [],
   "source": [
    "\"\"\"result of collective period slowdown from Fig. 4\"\"\"\n",
    "tissue_peaks = np.array([23.64834728,  48.99299716,  83.17459412])\n",
    "tissue_periods = np.array([25.1439267 , 33.77065793, 35.51921158])\n",
    "tissue_period_stds = np.array([1.7938441 , 4.34319991, 3.28815847])"
   ]
  },
  {
   "cell_type": "code",
   "execution_count": 25,
   "id": "fa4a035c",
   "metadata": {},
   "outputs": [],
   "source": [
    "\"\"\"region of ap axis considering\"\"\"\n",
    "lower = 240 / 5          # microns / 5 microns per bin\n",
    "upper = 315 / 5"
   ]
  },
  {
   "cell_type": "code",
   "execution_count": 48,
   "id": "1befae53",
   "metadata": {},
   "outputs": [],
   "source": [
    "traces = extract_traces(df, method='gauss3d_dog')"
   ]
  },
  {
   "cell_type": "code",
   "execution_count": 148,
   "id": "8b0b2af0",
   "metadata": {},
   "outputs": [],
   "source": [
    "plt.close('all')"
   ]
  },
  {
   "cell_type": "code",
   "execution_count": 149,
   "id": "df40c3f3",
   "metadata": {},
   "outputs": [],
   "source": [
    "fig, axs = plt.subplots(4, 1, figsize=(6.37333333, 6.19333333))"
   ]
  },
  {
   "cell_type": "code",
   "execution_count": 150,
   "id": "a455bceb",
   "metadata": {},
   "outputs": [],
   "source": [
    "x_min = 0\n",
    "x_max = 100"
   ]
  },
  {
   "cell_type": "code",
   "execution_count": 151,
   "id": "f5402c45",
   "metadata": {},
   "outputs": [],
   "source": [
    "\"\"\"re-plot tissue scale period rise\"\"\"\n",
    "# ms2 periods\n",
    "ax = axs[0]\n",
    "ax.clear()\n",
    "ax.errorbar(tissue_peaks, tissue_periods, tissue_period_stds, marker='o',\n",
    "             markersize=12, color=colors['green'], capsize=4, capthick=2, linewidth=2, markerfacecolor=(colors['green'],) + (0.75,))\n",
    "\n",
    "#ax.set_xlabel('time (min)', fontsize=fontsize)\n",
    "ax.set_ylabel('tissue oscillation\\nperiod (min)', fontsize=fontsize)\n",
    "ax.set_xlim([x_min, x_max])\n",
    "ax.set_xticks([0, 30, 60, 90], labels=[])\n",
    "ax.set_yticks([20, 40])\n",
    "ax.set_ylim([20,45])\n",
    "ax = style_axes(ax, fontsize=fontsize)"
   ]
  },
  {
   "cell_type": "markdown",
   "id": "7b563eea",
   "metadata": {},
   "source": [
    "## burst separations"
   ]
  },
  {
   "cell_type": "code",
   "execution_count": 152,
   "id": "b1359e0f",
   "metadata": {},
   "outputs": [],
   "source": [
    "\"\"\"extract individual bursts and its corresponding separation, time, and ap location\"\"\"\n",
    "aps = []\n",
    "quiets = []\n",
    "event_times = []\n",
    "for trace in traces:\n",
    "    t_arr, inten_arr, nucleus = trace\n",
    "    sub_df = df[df.nucleus_id == nucleus]\n",
    "    state = binarize_trace(inten_arr, t_arr, thresh=1.0, window_size=3)\n",
    "    on_times, off_times = get_on_and_off_times(state, t_arr)\n",
    "   \n",
    "    # inactive duration\n",
    "    these_burst_quiets = get_burst_inactive_durations(on_times, off_times)\n",
    "    these_reference_times = off_times[:len(these_burst_quiets)]\n",
    "    these_aps = np.zeros(len(these_reference_times))\n",
    "    these_aps_relative_to_somites = np.zeros(len(these_reference_times))\n",
    "    for i, t in enumerate(these_reference_times):\n",
    "        these_aps[i] = sub_df[np.abs(sub_df.t - t) == np.min(np.abs(sub_df.t - t))].ap.iloc[0]\n",
    "        \n",
    "    aps.extend(these_aps)\n",
    "    quiets.extend(these_burst_quiets)\n",
    "    event_times.extend(these_reference_times)"
   ]
  },
  {
   "cell_type": "code",
   "execution_count": 153,
   "id": "2526cbcb",
   "metadata": {},
   "outputs": [
    {
     "name": "stderr",
     "output_type": "stream",
     "text": [
      "/tmp/ipykernel_2357556/3767433316.py:8: DeprecationWarning: Conversion of an array with ndim > 0 to a scalar is deprecated, and will error in future. Ensure you extract a single element from your array before performing this operation. (Deprecated NumPy 1.25.)\n",
      "  coarse_times[i] = coarse_time_bins[np.abs(coarse_time_bins - these_times[i]) == np.min(np.abs(coarse_time_bins - these_times[i]))]\n"
     ]
    }
   ],
   "source": [
    "\"\"\"plot separations over time at fixed ap bins\"\"\"\n",
    "these_quiets = [x for i, x in enumerate(quiets) if aps[i] > lower and aps[i] <= upper]\n",
    "these_times = [x for i, x in enumerate(event_times) if aps[i] > lower and aps[i] <= upper]\n",
    "\n",
    "coarse_time_bins = tissue_peaks#np.linspace(16, 119, 4)#10)\n",
    "coarse_times = np.zeros_like(these_times)\n",
    "for i in range(len(these_times)):\n",
    "    coarse_times[i] = coarse_time_bins[np.abs(coarse_time_bins - these_times[i]) == np.min(np.abs(coarse_time_bins - these_times[i]))]\n",
    "    \n",
    "mean_quiets = np.zeros_like(coarse_time_bins)\n",
    "std_quiets = np.zeros_like(coarse_time_bins)\n",
    "for i in range(len(coarse_time_bins)):\n",
    "    tmp_quiets = np.array(these_quiets)[coarse_times == coarse_time_bins[i]]\n",
    "    mean_quiets[i] = np.mean(tmp_quiets)\n",
    "    std_quiets[i] = np.std(tmp_quiets) #/ np.sqrt(len(tmp_quiets))\n",
    "    \n",
    "ax = axs[1]\n",
    "ax.clear()\n",
    "ax.plot(these_times, these_quiets, 'o', markerfacecolor=(0, 0, 0, 0.5), markeredgecolor='none', linewidth=0)\n",
    "ax.errorbar(coarse_time_bins, mean_quiets, std_quiets, marker='o',\n",
    "             markersize=12, color=colors['green'], capsize=4, capthick=2, linewidth=2, markerfacecolor=(colors['green'],) + (0.75,))\n",
    "#ax.set_xlabel('time (min)', fontsize=fontsize)\n",
    "ax.set_ylabel('burst separation\\n(min)', fontsize=fontsize)\n",
    "ax.set_xlim([x_min, x_max])\n",
    "ax.set_xticks([0, 30, 60, 90], labels=[])\n",
    "ax = style_axes(ax, fontsize=fontsize)\n"
   ]
  },
  {
   "cell_type": "markdown",
   "id": "55aa24c2",
   "metadata": {},
   "source": [
    "## burst durations"
   ]
  },
  {
   "cell_type": "code",
   "execution_count": 154,
   "id": "6e16aead",
   "metadata": {},
   "outputs": [],
   "source": [
    "\"\"\"extract individual bursts and its corresponding separation, time, and ap location\"\"\"\n",
    "aps = []\n",
    "durations = []\n",
    "event_times = []\n",
    "for trace in traces:\n",
    "    t_arr, inten_arr, nucleus = trace\n",
    "    sub_df = df[df.nucleus_id == nucleus]\n",
    "    state = binarize_trace(inten_arr, t_arr, thresh=1.0, window_size=3)\n",
    "    on_times, off_times = get_on_and_off_times(state, t_arr)\n",
    "    these_burst_durations = get_burst_durations(on_times, off_times)\n",
    "    these_reference_times = on_times[:len(these_burst_durations)]\n",
    "    these_aps = np.zeros(len(these_reference_times))\n",
    "    these_aps_relative_to_somites = np.zeros(len(these_reference_times))\n",
    "    for i, t in enumerate(these_reference_times):\n",
    "        these_aps[i] = sub_df[np.abs(sub_df.t - t) == np.min(np.abs(sub_df.t - t))].ap.iloc[0]\n",
    "  \n",
    "    aps.extend(these_aps)\n",
    "    durations.extend(these_burst_durations)\n",
    "    event_times.extend(these_reference_times)"
   ]
  },
  {
   "cell_type": "code",
   "execution_count": 155,
   "id": "7a8a6a79",
   "metadata": {},
   "outputs": [
    {
     "name": "stderr",
     "output_type": "stream",
     "text": [
      "/tmp/ipykernel_2357556/1140779821.py:8: DeprecationWarning: Conversion of an array with ndim > 0 to a scalar is deprecated, and will error in future. Ensure you extract a single element from your array before performing this operation. (Deprecated NumPy 1.25.)\n",
      "  coarse_times[i] = coarse_time_bins[np.abs(coarse_time_bins - these_times[i]) == np.min(np.abs(coarse_time_bins - these_times[i]))]\n"
     ]
    }
   ],
   "source": [
    "\"\"\"plot durations over time at fixed ap bins\"\"\"\n",
    "these_durations = [x for i, x in enumerate(durations) if aps[i] > lower and aps[i] <= upper]\n",
    "these_times = [x for i, x in enumerate(event_times) if aps[i] > lower and aps[i] <= upper]\n",
    "\n",
    "coarse_time_bins = tissue_peaks#np.linspace(16, 119, 4)#10)\n",
    "coarse_times = np.zeros_like(these_times)\n",
    "for i in range(len(these_times)):\n",
    "    coarse_times[i] = coarse_time_bins[np.abs(coarse_time_bins - these_times[i]) == np.min(np.abs(coarse_time_bins - these_times[i]))]\n",
    "    \n",
    "mean_durations = np.zeros_like(coarse_time_bins)\n",
    "std_durations = np.zeros_like(coarse_time_bins)\n",
    "for i in range(len(coarse_time_bins)):\n",
    "    tmp_durations = np.array(these_durations)[coarse_times == coarse_time_bins[i]]\n",
    "    mean_durations[i] = np.nanmean(tmp_durations)\n",
    "    std_durations[i] = np.nanstd(tmp_durations) #/ np.sqrt(len(tmp_durations))\n",
    "    \n",
    "ax = axs[2]\n",
    "ax.clear()\n",
    "ax.plot(these_times, these_durations, 'o', markerfacecolor=(0, 0, 0, 0.5), markeredgecolor='none', linewidth=0)\n",
    "ax.errorbar(coarse_time_bins, mean_durations, std_durations, marker='o',\n",
    "             markersize=12, color=colors['green'], capsize=4, capthick=2, linewidth=2, markerfacecolor=(colors['green'],) + (0.75,))\n",
    "#ax.set_xlabel('time (min)', fontsize=fontsize)\n",
    "ax.set_ylabel('burst duration\\n(min)', fontsize=fontsize)\n",
    "ax.set_xlim([x_min, x_max])\n",
    "ax.set_xticks([0, 30, 60, 90], labels=[])\n",
    "ax = style_axes(ax, fontsize=fontsize)\n"
   ]
  },
  {
   "cell_type": "markdown",
   "id": "029ddb58",
   "metadata": {},
   "source": [
    "## burst amplitudes"
   ]
  },
  {
   "cell_type": "code",
   "execution_count": 156,
   "id": "6d435d13",
   "metadata": {},
   "outputs": [],
   "source": [
    "aps = []\n",
    "amplitudes = []\n",
    "event_times =  []\n",
    "for trace in traces:\n",
    "    t_arr, inten_arr, nucleus = trace\n",
    "    sub_df = df[df.nucleus_id == nucleus]\n",
    "    state = binarize_trace(inten_arr, t_arr, thresh=1.0, window_size=3)\n",
    "    on_times, off_times = get_on_and_off_times(state, t_arr)\n",
    "    \n",
    "    burst_labels = state[1:] * (1 + np.cumsum(np.diff(state)))\n",
    "    unique_burst_labels = np.unique(burst_labels[burst_labels > 0])\n",
    "    n_bursts = len(unique_burst_labels)\n",
    "    these_mean_intens = np.zeros(n_bursts)\n",
    "    these_aps = np.zeros(n_bursts)\n",
    "    these_aps_relative_to_somites = np.zeros(n_bursts)\n",
    "\n",
    "    for i in range(n_bursts):\n",
    "        t = t_arr[np.where(burst_labels == unique_burst_labels[i])[0][0]]\n",
    "        masked_intens = inten_arr[1:] * (burst_labels == unique_burst_labels[i])\n",
    "        these_mean_intens[i] = np.mean(masked_intens[masked_intens > 0])\n",
    "        \n",
    "        these_aps[i] = sub_df[np.abs(sub_df.t - t) == np.min(np.abs(sub_df.t - t))].ap.iloc[0]\n",
    "   \n",
    "        event_times.extend([t])\n",
    "\n",
    "    aps.extend(these_aps)\n",
    "    amplitudes.extend(these_mean_intens)"
   ]
  },
  {
   "cell_type": "code",
   "execution_count": 157,
   "id": "968e90e6",
   "metadata": {},
   "outputs": [
    {
     "name": "stderr",
     "output_type": "stream",
     "text": [
      "/tmp/ipykernel_2357556/1215132090.py:9: DeprecationWarning: Conversion of an array with ndim > 0 to a scalar is deprecated, and will error in future. Ensure you extract a single element from your array before performing this operation. (Deprecated NumPy 1.25.)\n",
      "  coarse_times[i] = coarse_time_bins[np.abs(coarse_time_bins - these_times[i]) == np.min(np.abs(coarse_time_bins - these_times[i]))]\n"
     ]
    }
   ],
   "source": [
    "these_amplitudes = [x for i, x in enumerate(amplitudes) if aps[i] > lower and aps[i] <= upper]\n",
    "# rescale for visual ease\n",
    "these_amplitudes = [x / 5000 for x in these_amplitudes]\n",
    "these_times = [x for i, x in enumerate(event_times) if aps[i] > lower and aps[i] <= upper]\n",
    "\n",
    "coarse_time_bins = tissue_peaks#np.linspace(16, 119, 4)#10)\n",
    "coarse_times = np.zeros_like(these_times)\n",
    "for i in range(len(these_times)):\n",
    "    coarse_times[i] = coarse_time_bins[np.abs(coarse_time_bins - these_times[i]) == np.min(np.abs(coarse_time_bins - these_times[i]))]\n",
    "    \n",
    "mean_amplitudes = np.zeros_like(coarse_time_bins)\n",
    "std_amplitudes = np.zeros_like(coarse_time_bins)\n",
    "for i in range(len(coarse_time_bins)):\n",
    "    tmp_amplitudes = np.array(these_amplitudes)[coarse_times == coarse_time_bins[i]]\n",
    "    mean_amplitudes[i] = np.nanmean(tmp_amplitudes)\n",
    "    std_amplitudes[i] = np.nanstd(tmp_amplitudes) #/ np.sqrt(len(tmp_amplitudes))\n",
    "    \n",
    "ax = axs[3]\n",
    "ax.clear()\n",
    "ax.plot(these_times, these_amplitudes, 'o', markerfacecolor=(0, 0, 0, 0.5), markeredgecolor='none', linewidth=0)\n",
    "ax.errorbar(coarse_time_bins, mean_amplitudes, std_amplitudes, marker='o',\n",
    "             markersize=12, color=colors['green'], capsize=4, capthick=2, linewidth=2, markerfacecolor=(colors['green'],) + (0.75,))\n",
    "ax.set_xlabel('time (min)', fontsize=fontsize)\n",
    "ax.set_ylabel('burst amplitude\\n(x5000 a.u.)', fontsize=fontsize)\n",
    "ax.set_xlim([x_min, x_max])\n",
    "ax.set_xticks([0, 30, 60, 90])\n",
    "ax = style_axes(ax, fontsize=fontsize)\n"
   ]
  },
  {
   "cell_type": "code",
   "execution_count": 158,
   "id": "bab95424",
   "metadata": {},
   "outputs": [],
   "source": [
    "fig.tight_layout()"
   ]
  },
  {
   "cell_type": "code",
   "execution_count": 160,
   "id": "db6624d6",
   "metadata": {},
   "outputs": [],
   "source": [
    "plt.savefig(r'/home/brandon/Documents/Code/zebrafish-ms2-paper/figures/burst_params_over_time.pdf')"
   ]
  },
  {
   "cell_type": "code",
   "execution_count": null,
   "id": "bb6888ea",
   "metadata": {},
   "outputs": [],
   "source": []
  }
 ],
 "metadata": {
  "kernelspec": {
   "display_name": "Python (zebrafish-ms2-paper)",
   "language": "python",
   "name": "zebrafish-ms2-paper"
  },
  "language_info": {
   "codemirror_mode": {
    "name": "ipython",
    "version": 3
   },
   "file_extension": ".py",
   "mimetype": "text/x-python",
   "name": "python",
   "nbconvert_exporter": "python",
   "pygments_lexer": "ipython3",
   "version": "3.12.0"
  }
 },
 "nbformat": 4,
 "nbformat_minor": 5
}
