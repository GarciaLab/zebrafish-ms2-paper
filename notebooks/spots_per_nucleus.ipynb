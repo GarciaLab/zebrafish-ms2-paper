{
 "cells": [
  {
   "cell_type": "code",
   "execution_count": 29,
   "id": "79a51374",
   "metadata": {},
   "outputs": [],
   "source": [
    "import numpy as np\n",
    "import pandas as pd\n",
    "import matplotlib.pyplot as plt\n",
    "from matplotlib import rcParams\n",
    "from zebrafish_ms2_paper.utils import colors, pboc_rc, style_axes"
   ]
  },
  {
   "cell_type": "code",
   "execution_count": 28,
   "id": "8508f81a",
   "metadata": {},
   "outputs": [],
   "source": [
    "fontsize = 11\n",
    "linewidth = 2\n",
    "markersize = 4\n",
    "rcParams.update(pboc_rc)\n",
    "rcParams['pdf.fonttype'] = 42"
   ]
  },
  {
   "cell_type": "code",
   "execution_count": 31,
   "id": "1e01f94e",
   "metadata": {},
   "outputs": [],
   "source": [
    "%matplotlib qt"
   ]
  },
  {
   "cell_type": "code",
   "execution_count": 2,
   "id": "84846798",
   "metadata": {},
   "outputs": [],
   "source": [
    "df = pd.read_pickle(r'/home/brandon/Downloads/SupplementalDataFiles/Supplemental_Data_File_1-Spots.pkl')"
   ]
  },
  {
   "cell_type": "code",
   "execution_count": 9,
   "id": "66818be7",
   "metadata": {},
   "outputs": [],
   "source": [
    "spots_per_nucleus = []\n",
    "for t in df.t.unique():\n",
    "    sub_df = df[df.t== t]\n",
    "    sub_df.groupby('nucleus_id').apply(lambda x: len(x))\n",
    "    spots_per_nucleus.extend(sub_df.groupby('nucleus_id').apply(lambda x: len(x)).values)"
   ]
  },
  {
   "cell_type": "code",
   "execution_count": 21,
   "id": "75a1240c",
   "metadata": {},
   "outputs": [],
   "source": [
    "bins = np.arange(1, np.max(spots_per_nucleus))\n",
    "counts, bins = np.histogram(spots_per_nucleus, bins)\n",
    "probs = counts / np.sum(counts)\n"
   ]
  },
  {
   "cell_type": "code",
   "execution_count": 41,
   "id": "f0ca660f",
   "metadata": {},
   "outputs": [
    {
     "name": "stdout",
     "output_type": "stream",
     "text": [
      "[0.95692072 0.03823604 0.00484323]\n"
     ]
    }
   ],
   "source": [
    "refined_bins = np.array([1, 2, 3])\n",
    "refined_probs = np.zeros(3)\n",
    "refined_probs[0] = probs[0]\n",
    "refined_probs[1] = probs[1]\n",
    "refined_probs[2] = np.sum(probs[2:])\n",
    "print(refined_probs)\n",
    "\n",
    "plt.figure(figsize=[3.5, 3.5])\n",
    "plt.bar(refined_bins, refined_probs, color=colors['green'])\n",
    "plt.xticks([1, 2, 3], labels=['1', '2', '3+'])\n",
    "plt.xlabel('number of spots per nucleus', fontsize=fontsize)\n",
    "plt.ylabel('fraction of nuclei', fontsize=fontsize)\n",
    "ax = style_axes(plt.gca(), fontsize=fontsize)\n",
    "plt.tight_layout()"
   ]
  },
  {
   "cell_type": "code",
   "execution_count": 42,
   "id": "b89339bf",
   "metadata": {},
   "outputs": [],
   "source": [
    "plt.savefig(r'/home/brandon/Documents/Code/zebrafish-ms2-paper/figures/spots_per_nucleus_fig.pdf')"
   ]
  },
  {
   "cell_type": "code",
   "execution_count": 14,
   "id": "a8b03b7f",
   "metadata": {},
   "outputs": [
    {
     "data": {
      "text/plain": [
       "array([0, 1, 2, 3, 4, 5, 6])"
      ]
     },
     "execution_count": 14,
     "metadata": {},
     "output_type": "execute_result"
    }
   ],
   "source": [
    "bins"
   ]
  },
  {
   "cell_type": "code",
   "execution_count": 15,
   "id": "07d2223e",
   "metadata": {},
   "outputs": [
    {
     "data": {
      "text/plain": [
       "array([   0, 7508,  300,   31,    5,    2])"
      ]
     },
     "execution_count": 15,
     "metadata": {},
     "output_type": "execute_result"
    }
   ],
   "source": [
    "counts"
   ]
  },
  {
   "cell_type": "code",
   "execution_count": 38,
   "id": "cd057051",
   "metadata": {},
   "outputs": [
    {
     "data": {
      "text/plain": [
       "array([3.46666667, 3.29333333])"
      ]
     },
     "execution_count": 38,
     "metadata": {},
     "output_type": "execute_result"
    }
   ],
   "source": [
    "plt.gcf().get_size_inches()"
   ]
  },
  {
   "cell_type": "code",
   "execution_count": 37,
   "id": "060b62c5",
   "metadata": {},
   "outputs": [],
   "source": [
    "plt.tight_layout()"
   ]
  },
  {
   "cell_type": "code",
   "execution_count": null,
   "id": "bad809d4",
   "metadata": {},
   "outputs": [],
   "source": []
  }
 ],
 "metadata": {
  "kernelspec": {
   "display_name": "Python (zebrafish-ms2-paper)",
   "language": "python",
   "name": "zebrafish-ms2-paper"
  },
  "language_info": {
   "codemirror_mode": {
    "name": "ipython",
    "version": 3
   },
   "file_extension": ".py",
   "mimetype": "text/x-python",
   "name": "python",
   "nbconvert_exporter": "python",
   "pygments_lexer": "ipython3",
   "version": "3.12.0"
  }
 },
 "nbformat": 4,
 "nbformat_minor": 5
}
